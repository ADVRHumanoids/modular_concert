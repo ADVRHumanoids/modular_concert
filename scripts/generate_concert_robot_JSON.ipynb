{
 "cells": [
  {
   "cell_type": "code",
   "execution_count": null,
   "metadata": {},
   "outputs": [],
   "source": [
    "import os\n",
    "import sys\n",
    "from modular.URDF_writer import UrdfWriter"
   ]
  },
  {
   "cell_type": "code",
   "execution_count": null,
   "metadata": {},
   "outputs": [],
   "source": [
    "#create UrdfWriter object and joint map to store homing values\n",
    "urdf_writer = UrdfWriter(speedup=True, floating_base=True)\n",
    "homing_joint_map = {}"
   ]
  },
  {
   "cell_type": "code",
   "execution_count": null,
   "metadata": {},
   "outputs": [],
   "source": [
    "#add mobile base\n",
    "urdf_writer.add_mobile_platform()\n"
   ]
  },
  {
   "cell_type": "code",
   "execution_count": null,
   "metadata": {},
   "outputs": [],
   "source": [
    "\n",
    "# leg + wheel 1\n",
    "data = urdf_writer.select_module_from_name('mobile_base_con1')\n",
    "wheel_data, steering_data = urdf_writer.add_wheel_module(wheel_filename='concert/module_wheel_concert.json', \n",
    "                                    steering_filename='concert/module_steering_concert_fl_rr.json', \n",
    "                                    angle_offset=0.0)\n",
    "homing_joint_map[str(steering_data['lastModule_name'])] = {'angle': 1.57}\n",
    "homing_joint_map[str(wheel_data['lastModule_name'])] = {'angle': 0.0}\n",
    "\n",
    "# leg + wheel 2\n",
    "data = urdf_writer.select_module_from_name('mobile_base_con2')\n",
    "wheel_data, steering_data = urdf_writer.add_wheel_module(wheel_filename='concert/module_wheel_concert.json', \n",
    "                                    steering_filename='concert/module_steering_concert_fr_rl.json', \n",
    "                                    angle_offset=0.0)\n",
    "homing_joint_map[str(steering_data['lastModule_name'])] = {'angle': -1.57}\n",
    "homing_joint_map[str(wheel_data['lastModule_name'])] = {'angle': 0.0}\n",
    "\n",
    "# leg + wheel 3\n",
    "data = urdf_writer.select_module_from_name('mobile_base_con3')\n",
    "wheel_data, steering_data = urdf_writer.add_wheel_module(wheel_filename='concert/module_wheel_concert.json', \n",
    "                                    steering_filename='concert/module_steering_concert_fr_rl.json', \n",
    "                                    angle_offset=0.0)\n",
    "homing_joint_map[str(steering_data['lastModule_name'])] = {'angle': -1.57}\n",
    "homing_joint_map[str(wheel_data['lastModule_name'])] = {'angle': 0.0}\n",
    "\n",
    "# leg + wheel 4\n",
    "data = urdf_writer.select_module_from_name('mobile_base_con4')\n",
    "wheel_data, steering_data = urdf_writer.add_wheel_module(wheel_filename='concert/module_wheel_concert.json', \n",
    "                                    steering_filename='concert/module_steering_concert_fl_rr.json', \n",
    "                                    angle_offset=0.0)\n",
    "homing_joint_map[str(steering_data['lastModule_name'])] = {'angle': 1.57}\n",
    "homing_joint_map[str(wheel_data['lastModule_name'])] = {'angle': 0.0}"
   ]
  },
  {
   "cell_type": "code",
   "execution_count": null,
   "metadata": {},
   "outputs": [],
   "source": [
    "# manipulator\n",
    "data = urdf_writer.select_module_from_name('mobile_base_con5')\n",
    "\n",
    "# J1\n",
    "data = urdf_writer.add_module('concert/module_joint_elbow_concert.json', 0, False)\n",
    "homing_joint_map[str(data['lastModule_name'])] = {'angle': 0.5}\n",
    "\n",
    "#add a 10cm passive link\n",
    "data = urdf_writer.add_module('concert/module_link_straight_10_concert.json', 0, False)\n",
    "\n",
    "# J2\n",
    "data = urdf_writer.add_module('concert/module_joint_elbow_concert.json', 0, False)\n",
    "homing_joint_map[str(data['lastModule_name'])] = {'angle': -0.5}\n",
    "\n",
    "#add a 20cm passive link\n",
    "data = urdf_writer.add_module('concert/module_link_straight_20_concert.json', 0, False)\n",
    "\n",
    "# J3\n",
    "data = urdf_writer.add_module('concert/module_joint_yaw_concert.json', 0, False)\n",
    "homing_joint_map[data['lastModule_name']] = {'angle': 0.0}\n",
    "\n",
    "# J4\n",
    "data = urdf_writer.add_module('concert/module_joint_elbow_concert.json', 0, False)\n",
    "homing_joint_map[str(data['lastModule_name'])] = {'angle': 0.5}\n",
    "\n",
    "# J5\n",
    "data = urdf_writer.add_module('concert/module_joint_elbow_concert.json', 0, False)\n",
    "homing_joint_map[str(data['lastModule_name'])] = {'angle': -0.5}\n",
    "\n",
    "# gripper\n",
    "urdf_writer.add_simple_ee(0.0, 0.0, 0.2, 0.0)"
   ]
  },
  {
   "cell_type": "code",
   "execution_count": null,
   "metadata": {
    "tags": []
   },
   "outputs": [],
   "source": [
    "urdf_writer.remove_connectors()\n",
    "\n",
    "# get srdf and joint_map\n",
    "urdf_writer.write_urdf()\n",
    "urdf_writer.write_lowlevel_config()\n",
    "urdf_writer.write_problem_description_multi()\n",
    "urdf_writer.write_srdf(homing_joint_map)\n",
    "urdf_writer.write_joint_map()"
   ]
  },
  {
   "cell_type": "code",
   "execution_count": null,
   "metadata": {},
   "outputs": [],
   "source": [
    "# Save to file\n",
    "# output_file = os.path.join(output_dir, robot_name)\n",
    "# with open(output_file+\".urdf\", \"w\") as text_file:\n",
    "#     text_file.write(urdf_string)\n",
    "# with open(output_file+\".srdf\", \"w\") as text_file:\n",
    "#     text_file.write(srdf_string)\n",
    "print(\"All done! You can now deply the package using \\033[3m\\033[92m[path_to_modular]\\033[0m\\33[92m/src/modular/modular_data/deploy.sh\\033[0m\")"
   ]
  },
  {
   "cell_type": "code",
   "execution_count": null,
   "metadata": {},
   "outputs": [],
   "source": [
    "urdf_writer.deploy_robot(\"concert_robot_json\")"
   ]
  }
 ],
 "metadata": {
  "kernelspec": {
   "display_name": "Python 3.8.10 64-bit",
   "language": "python",
   "name": "python3"
  },
  "language_info": {
   "codemirror_mode": {
    "name": "ipython",
    "version": 3
   },
   "file_extension": ".py",
   "mimetype": "text/x-python",
   "name": "python",
   "nbconvert_exporter": "python",
   "pygments_lexer": "ipython3",
   "version": "3.8.10"
  },
  "orig_nbformat": 2,
  "vscode": {
   "interpreter": {
    "hash": "31f2aee4e71d21fbe5cf8b01ff0e069b9275f58929596ceb00d14d90e3e16cd6"
   }
  }
 },
 "nbformat": 4,
 "nbformat_minor": 2
}

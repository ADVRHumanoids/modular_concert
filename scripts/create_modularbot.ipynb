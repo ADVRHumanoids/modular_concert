{
 "metadata": {
  "language_info": {
   "codemirror_mode": {
    "name": "ipython",
    "version": 3
   },
   "file_extension": ".py",
   "mimetype": "text/x-python",
   "name": "python",
   "nbconvert_exporter": "python",
   "pygments_lexer": "ipython3",
   "version": "2.7.17-final"
  },
  "orig_nbformat": 2,
  "kernelspec": {
   "name": "python271764bitb7cc117145434f1894eb76992712748d",
   "display_name": "Python 2.7.17 64-bit",
   "language": "python"
  }
 },
 "nbformat": 4,
 "nbformat_minor": 2,
 "cells": [
  {
   "cell_type": "code",
   "execution_count": null,
   "metadata": {},
   "outputs": [],
   "source": [
    "import os\n",
    "import sys\n",
    "from modular.URDF_writer import UrdfWriter"
   ]
  },
  {
   "cell_type": "code",
   "execution_count": null,
   "metadata": {},
   "outputs": [],
   "source": [
    "#create UrdfWriter object adn joint map to store homing values\n",
    "urdf_writer = UrdfWriter(speedup=True)\n",
    "homing_joint_map = {}"
   ]
  },
  {
   "cell_type": "code",
   "execution_count": null,
   "metadata": {},
   "outputs": [],
   "source": [
    "#data = urdf_writer.add_slave_cube(0)\n",
    "# J1\n",
    "data = urdf_writer.add_module('module_joint_2ndGen_yaw_ORANGE_B.yaml', 0, False)\n",
    "homing_joint_map[str(data['lastModule_name'])] = {'angle': 0.0}\n",
    "\n",
    "# J2\n",
    "data = urdf_writer.add_module('module_joint_2ndGen_double_elbow_ORANGE_B.yaml', 0, False)\n",
    "homing_joint_map[str(data['lastModule_name'])] = {'angle': 0.5}\n",
    "\n",
    "# J3\n",
    "data = urdf_writer.add_module('module_joint_2ndGen_yaw_ORANGE_B.yaml', 0, False)\n",
    "homing_joint_map[str(data['lastModule_name'])] = {'angle': 0.0}\n",
    "\n",
    "# J4\n",
    "data = urdf_writer.add_module('module_joint_2ndGen_double_elbow_ORANGE_B.yaml', 0, False)\n",
    "homing_joint_map[data['lastModule_name']] = {'angle': 1.0}\n",
    "\n",
    "# J5\n",
    "data = urdf_writer.add_module('module_joint_2ndGen_yaw_ORANGE_B.yaml', 0, False)\n",
    "homing_joint_map[str(data['lastModule_name'])] = {'angle': 0.0}\n",
    "\n",
    "# J6\n",
    "data = urdf_writer.add_module('module_joint_2ndGen_double_elbow_ORANGE_B.yaml', 0, False)\n",
    "homing_joint_map[str(data['lastModule_name'])] = {'angle': 1.5}\n",
    "\n",
    "# gripper\n",
    "data = urdf_writer.add_module('module_gripper.yaml', 0, False)"
   ]
  },
  {
   "cell_type": "code",
   "execution_count": null,
   "metadata": {
    "tags": []
   },
   "outputs": [],
   "source": [
    "# get srdf and joint_map\n",
    "urdf_writer.process_urdf()\n",
    "urdf_writer.write_urdf()\n",
    "urdf_writer.write_lowlevel_config()\n",
    "urdf_writer.write_problem_description()\n",
    "urdf_writer.write_srdf(homing_joint_map)\n",
    "urdf_writer.write_joint_map()"
   ]
  },
  {
   "cell_type": "code",
   "execution_count": null,
   "metadata": {},
   "outputs": [],
   "source": [
    "# Save to file\n",
    "# output_file = os.path.join(output_dir, robot_name)\n",
    "# with open(output_file+\".urdf\", \"w\") as text_file:\n",
    "#     text_file.write(urdf_string)\n",
    "# with open(output_file+\".srdf\", \"w\") as text_file:\n",
    "#     text_file.write(srdf_string)\n",
    "print(\"All done! You can now deply the package using \\033[3m\\033[92m[path_to_modular]\\033[0m\\33[92m/src/modular/modular_data/deploy.sh\\033[0m\")"
   ]
  },
  {
   "cell_type": "code",
   "execution_count": null,
   "metadata": {},
   "outputs": [],
   "source": []
  }
 ]
}
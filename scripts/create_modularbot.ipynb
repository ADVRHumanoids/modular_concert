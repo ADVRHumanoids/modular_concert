{
 "metadata": {
  "language_info": {
   "codemirror_mode": {
    "name": "ipython",
    "version": 3
   },
   "file_extension": ".py",
   "mimetype": "text/x-python",
   "name": "python",
   "nbconvert_exporter": "python",
   "pygments_lexer": "ipython3",
   "version": "2.7.17-final"
  },
  "orig_nbformat": 2,
  "kernelspec": {
   "name": "python271764bit5f9e927b849a4c6db126ab1bbfba4dfe",
   "display_name": "Python 2.7.17 64-bit",
   "language": "python"
  }
 },
 "nbformat": 4,
 "nbformat_minor": 2,
 "cells": [
  {
   "cell_type": "code",
   "execution_count": 1,
   "metadata": {},
   "outputs": [
    {
     "output_type": "stream",
     "name": "stdout",
     "text": [
      "running with ElementTree on Python 2.5+\n"
     ]
    }
   ],
   "source": [
    "import os\n",
    "import sys\n",
    "from modular.URDF_writer import UrdfWriter"
   ]
  },
  {
   "cell_type": "code",
   "execution_count": 2,
   "metadata": {},
   "outputs": [
    {
     "output_type": "stream",
     "name": "stdout",
     "text": [
      "/home/tree/modular/src/modular/config_file.yaml\n",
      "/home/tree/modular/src/modular/utils.py:37: YAMLLoadWarning: calling yaml.load() without Loader=... is deprecated, as the default Loader is unsafe. Please read https://msg.pyyaml.org/load for full details.\n",
      "  yaml_dict = yaml.load(stream)\n"
     ]
    }
   ],
   "source": [
    "#create UrdfWriter object adn joint map to store homing values\n",
    "urdf_writer = UrdfWriter(speedup=True)\n",
    "homing_joint_map = {}"
   ]
  },
  {
   "cell_type": "code",
   "execution_count": 3,
   "metadata": {},
   "outputs": [
    {
     "output_type": "stream",
     "name": "stdout",
     "text": [
      "('module_type', 'link')\n",
      "big\n",
      "selected_port : 2\n",
      "active_ports:  0011\n",
      "occupied_ports:  0001\n",
      "[[1. 0. 0. 0.]\n",
      " [0. 1. 0. 0.]\n",
      " [0. 0. 1. 0.]\n",
      " [0. 0. 0. 1.]]\n",
      "base_link\n",
      "└── table\n",
      "    └── L_0_A\n",
      "('module_type', 'joint')\n",
      "big\n",
      "new_module.tag: _A\n",
      "parent module:\n",
      "L_0_A\n",
      "link\n",
      "selected_port : 2\n",
      "active_ports:  0011\n",
      "occupied_ports:  0001\n",
      "[[1.   0.   0.   0.  ]\n",
      " [0.   1.   0.   0.  ]\n",
      " [0.   0.   1.   0.06]\n",
      " [0.   0.   0.   1.  ]]\n",
      "[[1. 0. 0. 0.]\n",
      " [0. 1. 0. 0.]\n",
      " [0. 0. 1. 0.]\n",
      " [0. 0. 0. 1.]]\n",
      "[[1.    0.    0.    0.   ]\n",
      " [0.    1.    0.    0.   ]\n",
      " [0.    0.    1.    0.214]\n",
      " [0.    0.    0.    1.   ]]\n",
      "[[1. 0. 0. 0.]\n",
      " [0. 1. 0. 0.]\n",
      " [0. 0. 1. 0.]\n",
      " [0. 0. 0. 1.]]\n",
      "tag_index:  1 list of chains:  0\n",
      "base_link\n",
      "└── table\n",
      "    └── L_0_A\n",
      "        └── J1_A\n",
      "('module_type', 'joint')\n",
      "big\n",
      "new_module.tag: _A\n",
      "parent module:\n",
      "J1_A\n",
      "joint\n",
      "selected_port : 2\n",
      "active_ports:  0011\n",
      "occupied_ports:  0001\n",
      "[[1. 0. 0. 0.]\n",
      " [0. 1. 0. 0.]\n",
      " [0. 0. 1. 0.]\n",
      " [0. 0. 0. 1.]]\n",
      "[[1. 0. 0. 0.]\n",
      " [0. 1. 0. 0.]\n",
      " [0. 0. 1. 0.]\n",
      " [0. 0. 0. 1.]]\n",
      "[[ 1.00000000e+00  0.00000000e+00  0.00000000e+00  0.00000000e+00]\n",
      " [ 0.00000000e+00  7.96326711e-04  9.99999683e-01  7.21499771e-02]\n",
      " [ 0.00000000e+00 -9.99999683e-01  7.96326711e-04  1.32057455e-01]\n",
      " [ 0.00000000e+00  0.00000000e+00  0.00000000e+00  1.00000000e+00]]\n",
      "tag_index:  1 list of chains:  1\n",
      "base_link\n",
      "└── table\n",
      "    └── L_0_A\n",
      "        └── J1_A\n",
      "            └── J2_A\n",
      "('module_type', 'joint')\n",
      "big\n",
      "new_module.tag: _A\n",
      "parent module:\n",
      "J2_A\n",
      "joint\n",
      "selected_port : 2\n",
      "active_ports:  0011\n",
      "occupied_ports:  0001\n",
      "[[ 1.00000000e+00  0.00000000e+00  0.00000000e+00  0.00000000e+00]\n",
      " [ 0.00000000e+00  7.96326711e-04 -9.99999683e-01 -1.31999958e-01]\n",
      " [ 0.00000000e+00  9.99999683e-01  7.96326711e-04 -7.20448849e-02]\n",
      " [ 0.00000000e+00  0.00000000e+00  0.00000000e+00  1.00000000e+00]]\n",
      "[[1. 0. 0. 0.]\n",
      " [0. 1. 0. 0.]\n",
      " [0. 0. 1. 0.]\n",
      " [0. 0. 0. 1.]]\n",
      "[[ 1.00000000e+00  0.00000000e+00  0.00000000e+00  0.00000000e+00]\n",
      " [ 0.00000000e+00  7.96326711e-04  9.99999683e-01  7.21499771e-02]\n",
      " [ 0.00000000e+00 -9.99999683e-01  7.96326711e-04  1.32057455e-01]\n",
      " [ 0.00000000e+00  0.00000000e+00  0.00000000e+00  1.00000000e+00]]\n",
      "tag_index:  1 list of chains:  1\n",
      "base_link\n",
      "└── table\n",
      "    └── L_0_A\n",
      "        └── J1_A\n",
      "            └── J2_A\n",
      "                └── J3_A\n",
      "('module_type', 'joint')\n",
      "big\n",
      "new_module.tag: _A\n",
      "parent module:\n",
      "J3_A\n",
      "joint\n",
      "selected_port : 2\n",
      "active_ports:  0011\n",
      "occupied_ports:  0001\n",
      "[[ 1.00000000e+00  0.00000000e+00  0.00000000e+00  0.00000000e+00]\n",
      " [ 0.00000000e+00  7.96326711e-04 -9.99999683e-01 -1.31999958e-01]\n",
      " [ 0.00000000e+00  9.99999683e-01  7.96326711e-04 -7.20448849e-02]\n",
      " [ 0.00000000e+00  0.00000000e+00  0.00000000e+00  1.00000000e+00]]\n",
      "[[1. 0. 0. 0.]\n",
      " [0. 1. 0. 0.]\n",
      " [0. 0. 1. 0.]\n",
      " [0. 0. 0. 1.]]\n",
      "[[ 1.00000000e+00  0.00000000e+00  0.00000000e+00  0.00000000e+00]\n",
      " [ 0.00000000e+00  7.96326711e-04  9.99999683e-01  7.21499771e-02]\n",
      " [ 0.00000000e+00 -9.99999683e-01  7.96326711e-04  1.32057455e-01]\n",
      " [ 0.00000000e+00  0.00000000e+00  0.00000000e+00  1.00000000e+00]]\n",
      "tag_index:  1 list of chains:  1\n",
      "base_link\n",
      "└── table\n",
      "    └── L_0_A\n",
      "        └── J1_A\n",
      "            └── J2_A\n",
      "                └── J3_A\n",
      "                    └── J4_A\n",
      "('module_type', 'joint')\n",
      "big\n",
      "new_module.tag: _A\n",
      "parent module:\n",
      "J4_A\n",
      "joint\n",
      "selected_port : 2\n",
      "active_ports:  0011\n",
      "occupied_ports:  0001\n",
      "[[ 1.00000000e+00  0.00000000e+00  0.00000000e+00  0.00000000e+00]\n",
      " [ 0.00000000e+00  7.96326711e-04 -9.99999683e-01 -1.31999958e-01]\n",
      " [ 0.00000000e+00  9.99999683e-01  7.96326711e-04 -7.20448849e-02]\n",
      " [ 0.00000000e+00  0.00000000e+00  0.00000000e+00  1.00000000e+00]]\n",
      "[[1. 0. 0. 0.]\n",
      " [0. 1. 0. 0.]\n",
      " [0. 0. 1. 0.]\n",
      " [0. 0. 0. 1.]]\n",
      "[[1.    0.    0.    0.   ]\n",
      " [0.    1.    0.    0.   ]\n",
      " [0.    0.    1.    0.214]\n",
      " [0.    0.    0.    1.   ]]\n",
      "tag_index:  1 list of chains:  1\n",
      "base_link\n",
      "└── table\n",
      "    └── L_0_A\n",
      "        └── J1_A\n",
      "            └── J2_A\n",
      "                └── J3_A\n",
      "                    └── J4_A\n",
      "                        └── J5_A\n",
      "('module_type', 'link')\n",
      "big\n",
      "new_module.tag: _A\n",
      "parent module:\n",
      "J5_A\n",
      "joint\n",
      "selected_port : 2\n",
      "active_ports:  0011\n",
      "occupied_ports:  0001\n",
      "[[1. 0. 0. 0.]\n",
      " [0. 1. 0. 0.]\n",
      " [0. 0. 1. 0.]\n",
      " [0. 0. 0. 1.]]\n",
      "base_link\n",
      "└── table\n",
      "    └── L_0_A\n",
      "        └── J1_A\n",
      "            └── J2_A\n",
      "                └── J3_A\n",
      "                    └── J4_A\n",
      "                        └── J5_A\n",
      "                            └── L_5_link_1_A\n",
      "Parent module:\n",
      "L_5_link_1_A\n",
      "link\n",
      "[[ 1.00000000e+00  0.00000000e+00  0.00000000e+00  0.00000000e+00]\n",
      " [ 0.00000000e+00  7.96326711e-04  9.99999683e-01  2.71999914e-01]\n",
      " [ 0.00000000e+00 -9.99999683e-01  7.96326711e-04  8.32166009e-02]\n",
      " [ 0.00000000e+00  0.00000000e+00  0.00000000e+00  1.00000000e+00]]\n",
      "tag_index:  1 list of chains:  1\n",
      "/home/tree/modular/src/modular/ModuleNode.py:324: YAMLLoadWarning: calling yaml.load() without Loader=... is deprecated, as the default Loader is unsafe. Please read https://msg.pyyaml.org/load for full details.\n",
      "  data = yaml.load(stream)\n"
     ]
    },
    {
     "output_type": "execute_result",
     "data": {
      "text/plain": [
       "{'count': 5,\n",
       " 'lastModule_name': 'ee_A',\n",
       " 'lastModule_type': 'simple_ee',\n",
       " 'result': '',\n",
       " 'size': 3}"
      ]
     },
     "metadata": {},
     "execution_count": 3
    }
   ],
   "source": [
    "urdf_writer.add_table()\n",
    "urdf_writer.add_socket(0.150, 0.225, 0.0, 0.0)\n",
    "\n",
    "#data = urdf_writer.add_slave_cube(0)\n",
    "# J1\n",
    "data = urdf_writer.add_module('module_joint_yaw_ORANGE_B.yaml', 0, False)\n",
    "homing_joint_map[str(data['lastModule_name'])] = {'angle': 0.0}\n",
    "\n",
    "# J2\n",
    "data = urdf_writer.add_module('module_joint_double_elbow_ORANGE_B.yaml', 0, False)\n",
    "homing_joint_map[str(data['lastModule_name'])] = {'angle': 0.5}\n",
    "\n",
    "# J4\n",
    "data = urdf_writer.add_module('module_joint_double_elbow_ORANGE_B.yaml', 0, False)\n",
    "homing_joint_map[data['lastModule_name']] = {'angle': 1.0}\n",
    "\n",
    "data = urdf_writer.add_module('module_joint_double_elbow_ORANGE_B.yaml', 0, False)\n",
    "homing_joint_map[data['lastModule_name']] = {'angle': 1.0}\n",
    "\n",
    "# J3\n",
    "data = urdf_writer.add_module('module_joint_yaw_ORANGE_B.yaml', 0, False)\n",
    "homing_joint_map[str(data['lastModule_name'])] = {'angle': 0.0}\n",
    "\n",
    "\n",
    "# J5\n",
    "# data = urdf_writer.add_module('module_joint_yaw_ORANGE_B.yaml', 0, False)\n",
    "# homing_joint_map[str(data['lastModule_name'])] = {'angle': 0.0}\n",
    "\n",
    "# J6\n",
    "# data = urdf_writer.add_module('module_joint_double_elbow_ORANGE_B.yaml', 0, False)\n",
    "# homing_joint_map[str(data['lastModule_name'])] = {'angle': 1.5}\n",
    "\n",
    "data = urdf_writer.add_module('module_link_elbow_90_B.yaml', 0, False)\n",
    "\n",
    "# gripper\n",
    "# data = urdf_writer.add_module('module_gripper.yaml', 0, False)\n",
    "urdf_writer.add_simple_ee(0.0, 0.0, 0.189, 0.0)\n",
    "\n",
    "\n",
    "# urdf_writer.access_module('table')\n",
    "# urdf_writer.add_socket(0.5, 0.5)\n",
    "\n",
    "# data = urdf_writer.add_module('module_joint_double_elbow_ORANGE_B.yaml', 0, False)\n",
    "# homing_joint_map[str(data['lastModule_name'])] = {'angle': 1.5}\n",
    "\n",
    "# data = urdf_writer.add_module('module_gripper.yaml', 0, False)"
   ]
  },
  {
   "cell_type": "code",
   "execution_count": 4,
   "metadata": {
    "tags": []
   },
   "outputs": [
    {
     "output_type": "stream",
     "name": "stdout",
     "text": [
      "!!python/object:modular.ModuleNode.Module\ncontrol_mode: impedance_d4\nmax_current_A: 20.0\npid: !!python/object:modular.ModuleNode.Module\n  impedance:\n  - 500.0\n  - 20.0\n  - 1.0\n  - 0.01\n  - 0.99\n  position:\n  - 1000.0\n  - 0.0\n  - 30.0\npos_offset: 0\nsign: 1\n\n[('joint', <modular.ModuleNode.Module object at 0x7fd41e44d110>), ('link', <modular.ModuleNode.Module object at 0x7fd41e44d050>)]\n<modular.ModuleNode.Module object at 0x7fd41e44d2d0>\n!!python/object:modular.ModuleNode.Module\ncontrol_mode: impedance_d4\nmax_current_A: 30.0\npid: !!python/object:modular.ModuleNode.Module\n  impedance:\n  - 500.0\n  - 20.0\n  - 1.0\n  - 0.01\n  - 0.99\n  position:\n  - 1000.0\n  - 0.0\n  - 30.0\npos_offset: 0\nsign: 1\n\n[('joint', <modular.ModuleNode.Module object at 0x7fd41e458190>), ('link', <modular.ModuleNode.Module object at 0x7fd41e458250>)]\n<modular.ModuleNode.Module object at 0x7fd41e458ad0>\n!!python/object:modular.ModuleNode.Module\ncontrol_mode: impedance_d4\nmax_current_A: 30.0\npid: !!python/object:modular.ModuleNode.Module\n  impedance:\n  - 500.0\n  - 20.0\n  - 1.0\n  - 0.01\n  - 0.99\n  position:\n  - 1000.0\n  - 0.0\n  - 30.0\npos_offset: 0\nsign: 1\n\n[('joint', <modular.ModuleNode.Module object at 0x7fd41e57ddd0>), ('link', <modular.ModuleNode.Module object at 0x7fd41e405950>)]\n<modular.ModuleNode.Module object at 0x7fd41e57df10>\n!!python/object:modular.ModuleNode.Module\ncontrol_mode: impedance_d4\nmax_current_A: 30.0\npid: !!python/object:modular.ModuleNode.Module\n  impedance:\n  - 500.0\n  - 20.0\n  - 1.0\n  - 0.01\n  - 0.99\n  position:\n  - 1000.0\n  - 0.0\n  - 30.0\npos_offset: 0\nsign: 1\n\n[('joint', <modular.ModuleNode.Module object at 0x7fd41e40d110>), ('link', <modular.ModuleNode.Module object at 0x7fd41e40d750>)]\n<modular.ModuleNode.Module object at 0x7fd41e40dbd0>\n!!python/object:modular.ModuleNode.Module\ncontrol_mode: impedance_d4\nmax_current_A: 20.0\npid: !!python/object:modular.ModuleNode.Module\n  impedance:\n  - 500.0\n  - 20.0\n  - 1.0\n  - 0.01\n  - 0.99\n  position:\n  - 1000.0\n  - 0.0\n  - 30.0\npos_offset: 0\nsign: 1\n\n[('joint', <modular.ModuleNode.Module object at 0x7fd41e476350>), ('link', <modular.ModuleNode.Module object at 0x7fd41e4760d0>)]\n<modular.ModuleNode.Module object at 0x7fd41e476410>\n('stack', [['EE']])\n[('stack', [['EE']]), ('EE', OrderedDict([('type', 'Interaction'), ('base_link', 'J1_A_stator'), ('distal_link', 'tool_exchanger_A'), ('stiffness', [50.0, 50.0, 50.0, 1.0, 1.0, 1.0]), ('damping', [0.7, 0.7, 0.7, 0.7, 0.7, 0.7])]))]\n[[<modular.ModuleNode.ModuleNode object at 0x7fd41e570fd0>, <modular.ModuleNode.ModuleNode object at 0x7fd4351d6c10>, <modular.ModuleNode.ModuleNode object at 0x7fd41e57d050>, <modular.ModuleNode.ModuleNode object at 0x7fd41e40d990>, <modular.ModuleNode.ModuleNode object at 0x7fd41e476610>, <modular.ModuleNode.ModuleNode object at 0x7fd41e458710>]]\n0.0\n0.5\n1.0\n1.0\n0.0\n"
     ]
    },
    {
     "output_type": "execute_result",
     "data": {
      "text/plain": [
       "{'joint_map': {1: 'J1_A', 2: 'J2_A', 3: 'J3_A', 4: 'J4_A', 5: 'J5_A'}}"
      ]
     },
     "metadata": {},
     "execution_count": 4
    }
   ],
   "source": [
    "# get srdf and joint_map\n",
    "# urdf_writer.process_urdf()\n",
    "urdf_writer.write_urdf()\n",
    "urdf_writer.write_lowlevel_config()\n",
    "urdf_writer.write_problem_description()\n",
    "urdf_writer.write_srdf(homing_joint_map)\n",
    "urdf_writer.write_joint_map()"
   ]
  },
  {
   "cell_type": "code",
   "execution_count": 8,
   "metadata": {},
   "outputs": [
    {
     "output_type": "stream",
     "name": "stdout",
     "text": [
      "All done! You can now deply the package using \u001b[3m\u001b[92m[path_to_modular]\u001b[0m\u001b[92m/src/modular/modular_data/deploy.sh\u001b[0m\n"
     ]
    }
   ],
   "source": [
    "# Save to file\n",
    "# output_file = os.path.join(output_dir, robot_name)\n",
    "# with open(output_file+\".urdf\", \"w\") as text_file:\n",
    "#     text_file.write(urdf_string)\n",
    "# with open(output_file+\".srdf\", \"w\") as text_file:\n",
    "#     text_file.write(srdf_string)\n",
    "print(\"All done! You can now deply the package using \\033[3m\\033[92m[path_to_modular]\\033[0m\\33[92m/src/modular/modular_data/deploy.sh\\033[0m\")"
   ]
  },
  {
   "cell_type": "code",
   "execution_count": 4,
   "metadata": {},
   "outputs": [
    {
     "output_type": "stream",
     "name": "stdout",
     "text": [
      "/home/tree/modular/src/modular/modular_data/deploy.sh\npino_moveit\n"
     ]
    },
    {
     "output_type": "error",
     "ename": "CalledProcessError",
     "evalue": "Command '['/home/tree/modular/src/modular/modular_data/deploy.sh', 'pino_moveit', '-d', '/home/tree/moveit_ws/src', '-v']' returned non-zero exit status 1",
     "traceback": [
      "\u001b[0;31m\u001b[0m",
      "\u001b[0;31mCalledProcessError\u001b[0mTraceback (most recent call last)",
      "\u001b[0;32m<ipython-input-4-8da2bc62e90a>\u001b[0m in \u001b[0;36m<module>\u001b[0;34m()\u001b[0m\n\u001b[0;32m----> 1\u001b[0;31m \u001b[0murdf_writer\u001b[0m\u001b[0;34m.\u001b[0m\u001b[0mdeploy_robot\u001b[0m\u001b[0;34m(\u001b[0m\u001b[0;34m\"pino_moveit\"\u001b[0m\u001b[0;34m)\u001b[0m\u001b[0;34m\u001b[0m\u001b[0m\n\u001b[0m",
      "\u001b[0;32m/home/tree/modular/src/modular/URDF_writer.pyc\u001b[0m in \u001b[0;36mdeploy_robot\u001b[0;34m(self, robot_name)\u001b[0m\n\u001b[1;32m   3186\u001b[0m         \u001b[0;32mprint\u001b[0m\u001b[0;34m(\u001b[0m\u001b[0mscript\u001b[0m\u001b[0;34m)\u001b[0m\u001b[0;34m\u001b[0m\u001b[0m\n\u001b[1;32m   3187\u001b[0m         \u001b[0;32mprint\u001b[0m\u001b[0;34m(\u001b[0m\u001b[0mrobot_name\u001b[0m\u001b[0;34m)\u001b[0m\u001b[0;34m\u001b[0m\u001b[0m\n\u001b[0;32m-> 3188\u001b[0;31m         \u001b[0moutput\u001b[0m \u001b[0;34m=\u001b[0m \u001b[0msubprocess\u001b[0m\u001b[0;34m.\u001b[0m\u001b[0mcheck_output\u001b[0m\u001b[0;34m(\u001b[0m\u001b[0;34m[\u001b[0m\u001b[0mscript\u001b[0m\u001b[0;34m,\u001b[0m \u001b[0mrobot_name\u001b[0m\u001b[0;34m,\u001b[0m \u001b[0;34m\"-d\"\u001b[0m\u001b[0;34m,\u001b[0m \u001b[0;34m\"/home/tree/moveit_ws/src\"\u001b[0m\u001b[0;34m,\u001b[0m \u001b[0;34m\"-v\"\u001b[0m\u001b[0;34m]\u001b[0m\u001b[0;34m)\u001b[0m\u001b[0;34m\u001b[0m\u001b[0m\n\u001b[0m\u001b[1;32m   3189\u001b[0m         \u001b[0;32mprint\u001b[0m\u001b[0;34m(\u001b[0m\u001b[0moutput\u001b[0m\u001b[0;34m)\u001b[0m\u001b[0;34m\u001b[0m\u001b[0m\n\u001b[1;32m   3190\u001b[0m \u001b[0;34m\u001b[0m\u001b[0m\n",
      "\u001b[0;32m/usr/lib/python2.7/subprocess.pyc\u001b[0m in \u001b[0;36mcheck_output\u001b[0;34m(*popenargs, **kwargs)\u001b[0m\n\u001b[1;32m    221\u001b[0m         \u001b[0;32mif\u001b[0m \u001b[0mcmd\u001b[0m \u001b[0;32mis\u001b[0m \u001b[0mNone\u001b[0m\u001b[0;34m:\u001b[0m\u001b[0;34m\u001b[0m\u001b[0m\n\u001b[1;32m    222\u001b[0m             \u001b[0mcmd\u001b[0m \u001b[0;34m=\u001b[0m \u001b[0mpopenargs\u001b[0m\u001b[0;34m[\u001b[0m\u001b[0;36m0\u001b[0m\u001b[0;34m]\u001b[0m\u001b[0;34m\u001b[0m\u001b[0m\n\u001b[0;32m--> 223\u001b[0;31m         \u001b[0;32mraise\u001b[0m \u001b[0mCalledProcessError\u001b[0m\u001b[0;34m(\u001b[0m\u001b[0mretcode\u001b[0m\u001b[0;34m,\u001b[0m \u001b[0mcmd\u001b[0m\u001b[0;34m,\u001b[0m \u001b[0moutput\u001b[0m\u001b[0;34m=\u001b[0m\u001b[0moutput\u001b[0m\u001b[0;34m)\u001b[0m\u001b[0;34m\u001b[0m\u001b[0m\n\u001b[0m\u001b[1;32m    224\u001b[0m     \u001b[0;32mreturn\u001b[0m \u001b[0moutput\u001b[0m\u001b[0;34m\u001b[0m\u001b[0m\n\u001b[1;32m    225\u001b[0m \u001b[0;34m\u001b[0m\u001b[0m\n",
      "\u001b[0;31mCalledProcessError\u001b[0m: Command '['/home/tree/modular/src/modular/modular_data/deploy.sh', 'pino_moveit', '-d', '/home/tree/moveit_ws/src', '-v']' returned non-zero exit status 1"
     ]
    }
   ],
   "source": [
    "urdf_writer.deploy_robot(\"pino_moveit\")"
   ]
  },
  {
   "cell_type": "code",
   "execution_count": 5,
   "metadata": {},
   "outputs": [],
   "source": [
    "import sys\n",
    "import copy\n",
    "import rospy\n",
    "import roslaunch\n",
    "import moveit_commander\n",
    "import moveit_msgs.msg\n",
    "import geometry_msgs.msg\n",
    "\n",
    "\n",
    "rospy.init_node('moveit_client', anonymous=True)"
   ]
  },
  {
   "cell_type": "code",
   "execution_count": null,
   "metadata": {},
   "outputs": [],
   "source": [
    "\n",
    "    \n",
    "uuid = roslaunch.rlutil.get_or_generate_uuid(None, False)\n",
    "roslaunch.configure_logging(uuid)\n",
    "# find launch filename\n",
    "update_collisions_launch = \"/home/tree/moveit_ws/src/pino_moveit/launch/update_collision.launch\"\n",
    "launch = roslaunch.parent.ROSLaunchParent(uuid, [update_collisions_launch])\n",
    "launch.start()\n",
    "rospy.loginfo(\"started\")\n",
    "launch.spin()"
   ]
  },
  {
   "cell_type": "code",
   "execution_count": null,
   "metadata": {},
   "outputs": [],
   "source": [
    "uuid = roslaunch.rlutil.get_or_generate_uuid(None, False)\n",
    "roslaunch.configure_logging(uuid)\n",
    "# find launch filename\n",
    "update_collisions_launch = \"/home/tree/moveit_ws/src/pino_moveit/launch/demo.launch\"\n",
    "launch = roslaunch.parent.ROSLaunchParent(uuid, [update_collisions_launch])\n",
    "launch.start()\n",
    "rospy.loginfo(\"started\")\n",
    "# launch.spin()\n",
    "rospy.sleep(10)"
   ]
  },
  {
   "cell_type": "code",
   "execution_count": 6,
   "metadata": {},
   "outputs": [
    {
     "output_type": "stream",
     "name": "stdout",
     "text": [
      "============ Starting tutorial setup\n"
     ]
    },
    {
     "output_type": "error",
     "ename": "RuntimeError",
     "evalue": "Unable to connect to move_group action server 'move_group' within allotted time (5s)",
     "traceback": [
      "\u001b[0;31m\u001b[0m",
      "\u001b[0;31mRuntimeError\u001b[0mTraceback (most recent call last)",
      "\u001b[0;32m<ipython-input-6-07245e63deb6>\u001b[0m in \u001b[0;36m<module>\u001b[0;34m()\u001b[0m\n\u001b[1;32m      4\u001b[0m \u001b[0mrobot\u001b[0m \u001b[0;34m=\u001b[0m \u001b[0mmoveit_commander\u001b[0m\u001b[0;34m.\u001b[0m\u001b[0mRobotCommander\u001b[0m\u001b[0;34m(\u001b[0m\u001b[0;34m)\u001b[0m\u001b[0;34m\u001b[0m\u001b[0m\n\u001b[1;32m      5\u001b[0m \u001b[0mscene\u001b[0m \u001b[0;34m=\u001b[0m \u001b[0mmoveit_commander\u001b[0m\u001b[0;34m.\u001b[0m\u001b[0mPlanningSceneInterface\u001b[0m\u001b[0;34m(\u001b[0m\u001b[0;34m)\u001b[0m\u001b[0;34m\u001b[0m\u001b[0m\n\u001b[0;32m----> 6\u001b[0;31m \u001b[0mgroup\u001b[0m \u001b[0;34m=\u001b[0m \u001b[0mmoveit_commander\u001b[0m\u001b[0;34m.\u001b[0m\u001b[0mMoveGroupCommander\u001b[0m\u001b[0;34m(\u001b[0m\u001b[0;34m\"arm_A\"\u001b[0m\u001b[0;34m)\u001b[0m\u001b[0;34m\u001b[0m\u001b[0m\n\u001b[0m\u001b[1;32m      7\u001b[0m \u001b[0;34m\u001b[0m\u001b[0m\n\u001b[1;32m      8\u001b[0m \u001b[0mrospy\u001b[0m\u001b[0;34m.\u001b[0m\u001b[0msleep\u001b[0m\u001b[0;34m(\u001b[0m\u001b[0;36m2\u001b[0m\u001b[0;34m)\u001b[0m\u001b[0;34m\u001b[0m\u001b[0m\n",
      "\u001b[0;32m/opt/ros/melodic/lib/python2.7/dist-packages/moveit_commander/move_group.pyc\u001b[0m in \u001b[0;36m__init__\u001b[0;34m(self, name, robot_description, ns, wait_for_servers)\u001b[0m\n\u001b[1;32m     50\u001b[0m     \u001b[0;32mdef\u001b[0m \u001b[0m__init__\u001b[0m\u001b[0;34m(\u001b[0m\u001b[0mself\u001b[0m\u001b[0;34m,\u001b[0m \u001b[0mname\u001b[0m\u001b[0;34m,\u001b[0m \u001b[0mrobot_description\u001b[0m\u001b[0;34m=\u001b[0m\u001b[0;34m\"robot_description\"\u001b[0m\u001b[0;34m,\u001b[0m \u001b[0mns\u001b[0m\u001b[0;34m=\u001b[0m\u001b[0;34m\"\"\u001b[0m\u001b[0;34m,\u001b[0m \u001b[0mwait_for_servers\u001b[0m\u001b[0;34m=\u001b[0m\u001b[0;36m5.0\u001b[0m\u001b[0;34m)\u001b[0m\u001b[0;34m:\u001b[0m\u001b[0;34m\u001b[0m\u001b[0m\n\u001b[1;32m     51\u001b[0m         \u001b[0;34m\"\"\" Specify the group name for which to construct this commander instance. Throws an exception if there is an initialization error. \"\"\"\u001b[0m\u001b[0;34m\u001b[0m\u001b[0m\n\u001b[0;32m---> 52\u001b[0;31m         \u001b[0mself\u001b[0m\u001b[0;34m.\u001b[0m\u001b[0m_g\u001b[0m \u001b[0;34m=\u001b[0m \u001b[0m_moveit_move_group_interface\u001b[0m\u001b[0;34m.\u001b[0m\u001b[0mMoveGroupInterface\u001b[0m\u001b[0;34m(\u001b[0m\u001b[0mname\u001b[0m\u001b[0;34m,\u001b[0m \u001b[0mrobot_description\u001b[0m\u001b[0;34m,\u001b[0m \u001b[0mns\u001b[0m\u001b[0;34m,\u001b[0m \u001b[0mwait_for_servers\u001b[0m\u001b[0;34m)\u001b[0m\u001b[0;34m\u001b[0m\u001b[0m\n\u001b[0m\u001b[1;32m     53\u001b[0m \u001b[0;34m\u001b[0m\u001b[0m\n\u001b[1;32m     54\u001b[0m     \u001b[0;32mdef\u001b[0m \u001b[0mget_name\u001b[0m\u001b[0;34m(\u001b[0m\u001b[0mself\u001b[0m\u001b[0;34m)\u001b[0m\u001b[0;34m:\u001b[0m\u001b[0;34m\u001b[0m\u001b[0m\n",
      "\u001b[0;31mRuntimeError\u001b[0m: Unable to connect to move_group action server 'move_group' within allotted time (5s)"
     ]
    }
   ],
   "source": [
    "print \"============ Starting tutorial setup\"\n",
    "moveit_commander.roscpp_initialize(sys.argv)\n",
    "\n",
    "robot = moveit_commander.RobotCommander()\n",
    "scene = moveit_commander.PlanningSceneInterface()\n",
    "group = moveit_commander.MoveGroupCommander(\"arm_A\")\n",
    "\n",
    "rospy.sleep(2)\n",
    "\n",
    "# plane_pose = geometry_msgs.msg.PoseStamped()\n",
    "# plane_pose.header.frame_id = robot.get_planning_frame()\n",
    "# plane_pose.pose.orientation.x = 1.0\n",
    "# plane_pose.pose.orientation.w = 1.0\n",
    "# plane_pose.pose.position.y = -0.01\n",
    "# scene.add_plane('vertical_plane', plane_pose)       \n",
    "\n",
    "print \"============ Reference frame: %s\" % group.get_planning_frame()\n",
    "print \"============ Reference frame: %s\" % group.get_end_effector_link()\n",
    "print \"============ Robot Groups:\"\n",
    "print robot.get_group_names()\n",
    "print \"============ Group current Pose:\"\n",
    "print group.get_current_pose()"
   ]
  },
  {
   "cell_type": "code",
   "execution_count": null,
   "metadata": {},
   "outputs": [],
   "source": [
    "constraint = moveit_msgs.msg.Constraints()\n",
    "orientation_constraint = moveit_msgs.msg.OrientationConstraint()\n",
    "orientation_constraint.header.frame_id = group.get_planning_frame()\n",
    "orientation_constraint.link_name = group.get_end_effector_link()\n",
    "orientation_constraint.orientation = copy.deepcopy(group.get_current_pose.pose.orientation)\n",
    "orientation_constraint.weight =1.0\n",
    "constraint.orientation_constraints.append(orientation_constraint)\n",
    "group.set_path_constraints(constraint)"
   ]
  }
 ]
}
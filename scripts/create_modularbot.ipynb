{
 "metadata": {
  "language_info": {
   "codemirror_mode": {
    "name": "ipython",
    "version": 3
   },
   "file_extension": ".py",
   "mimetype": "text/x-python",
   "name": "python",
   "nbconvert_exporter": "python",
   "pygments_lexer": "ipython3",
   "version": "2.7.17-final"
  },
  "orig_nbformat": 2,
  "kernelspec": {
   "name": "python271764bit5f9e927b849a4c6db126ab1bbfba4dfe",
   "display_name": "Python 2.7.17 64-bit",
   "language": "python"
  }
 },
 "nbformat": 4,
 "nbformat_minor": 2,
 "cells": [
  {
   "cell_type": "code",
   "execution_count": 9,
   "metadata": {},
   "outputs": [],
   "source": [
    "import os\n",
    "import sys\n",
    "from modular.URDF_writer import UrdfWriter"
   ]
  },
  {
   "cell_type": "code",
   "execution_count": 11,
   "metadata": {},
   "outputs": [
    {
     "output_type": "stream",
     "name": "stdout",
     "text": [
      "/home/tree/modular/src/modular/config_file.yaml\n"
     ]
    }
   ],
   "source": [
    "#create UrdfWriter object adn joint map to store homing values\n",
    "urdf_writer = UrdfWriter(speedup=True)\n",
    "homing_joint_map = {}"
   ]
  },
  {
   "cell_type": "code",
   "execution_count": 12,
   "metadata": {},
   "outputs": [
    {
     "output_type": "stream",
     "name": "stdout",
     "text": [
      "('module_type', 'link')\nbig\nselected_port : 2\nactive_ports:  0011\noccupied_ports:  0001\n[[1. 0. 0. 0.]\n [0. 1. 0. 0.]\n [0. 0. 1. 0.]\n [0. 0. 0. 1.]]\nbase_link\n└── table\n    └── L_0_A\n('module_type', 'joint')\nbig\nnew_module.tag: _A\nparent module:\n<modular.ModuleNode.ModuleNode object at 0x7f24e4b962d0>\nlink\nselected_port : 2\nactive_ports:  0011\noccupied_ports:  0001\n[[1.   0.   0.   0.  ]\n [0.   1.   0.   0.  ]\n [0.   0.   1.   0.06]\n [0.   0.   0.   1.  ]]\n[[1. 0. 0. 0.]\n [0. 1. 0. 0.]\n [0. 0. 1. 0.]\n [0. 0. 0. 1.]]\n[[1.    0.    0.    0.   ]\n [0.    1.    0.    0.   ]\n [0.    0.    1.    0.214]\n [0.    0.    0.    1.   ]]\n[[1. 0. 0. 0.]\n [0. 1. 0. 0.]\n [0. 0. 1. 0.]\n [0. 0. 0. 1.]]\ntag_index:  1 list of chains:  0\nbase_link\n└── table\n    └── L_0_A\n        └── J1_A\n('module_type', 'joint')\nbig\nnew_module.tag: _A\nparent module:\n<modular.ModuleNode.ModuleNode object at 0x7f24f42af2d0>\njoint\nselected_port : 2\nactive_ports:  0011\noccupied_ports:  0001\n[[1. 0. 0. 0.]\n [0. 1. 0. 0.]\n [0. 0. 1. 0.]\n [0. 0. 0. 1.]]\n[[1. 0. 0. 0.]\n [0. 1. 0. 0.]\n [0. 0. 1. 0.]\n [0. 0. 0. 1.]]\n[[ 1.00000000e+00  0.00000000e+00  0.00000000e+00  0.00000000e+00]\n [ 0.00000000e+00  7.96326711e-04  9.99999683e-01  7.21499771e-02]\n [ 0.00000000e+00 -9.99999683e-01  7.96326711e-04  1.32057455e-01]\n [ 0.00000000e+00  0.00000000e+00  0.00000000e+00  1.00000000e+00]]\ntag_index:  1 list of chains:  1\nbase_link\n└── table\n    └── L_0_A\n        └── J1_A\n            └── J2_A\n('module_type', 'joint')\nbig\nnew_module.tag: _A\nparent module:\n<modular.ModuleNode.ModuleNode object at 0x7f24e4c078d0>\njoint\nselected_port : 2\nactive_ports:  0011\noccupied_ports:  0001\n[[ 1.00000000e+00  0.00000000e+00  0.00000000e+00  0.00000000e+00]\n [ 0.00000000e+00  7.96326711e-04 -9.99999683e-01 -1.31999958e-01]\n [ 0.00000000e+00  9.99999683e-01  7.96326711e-04 -7.20448849e-02]\n [ 0.00000000e+00  0.00000000e+00  0.00000000e+00  1.00000000e+00]]\n[[1. 0. 0. 0.]\n [0. 1. 0. 0.]\n [0. 0. 1. 0.]\n [0. 0. 0. 1.]]\n[[1.    0.    0.    0.   ]\n [0.    1.    0.    0.   ]\n [0.    0.    1.    0.214]\n [0.    0.    0.    1.   ]]\ntag_index:  1 list of chains:  1\nbase_link\n└── table\n    └── L_0_A\n        └── J1_A\n            └── J2_A\n                └── J3_A\n('module_type', 'joint')\nbig\nnew_module.tag: _A\nparent module:\n<modular.ModuleNode.ModuleNode object at 0x7f24e531e750>\njoint\nselected_port : 2\nactive_ports:  0011\noccupied_ports:  0001\n[[1. 0. 0. 0.]\n [0. 1. 0. 0.]\n [0. 0. 1. 0.]\n [0. 0. 0. 1.]]\n[[1. 0. 0. 0.]\n [0. 1. 0. 0.]\n [0. 0. 1. 0.]\n [0. 0. 0. 1.]]\n[[ 1.00000000e+00  0.00000000e+00  0.00000000e+00  0.00000000e+00]\n [ 0.00000000e+00  7.96326711e-04  9.99999683e-01  7.21499771e-02]\n [ 0.00000000e+00 -9.99999683e-01  7.96326711e-04  1.32057455e-01]\n [ 0.00000000e+00  0.00000000e+00  0.00000000e+00  1.00000000e+00]]\ntag_index:  1 list of chains:  1\nbase_link\n└── table\n    └── L_0_A\n        └── J1_A\n            └── J2_A\n                └── J3_A\n                    └── J4_A\n('module_type', 'joint')\nbig\nnew_module.tag: _A\nparent module:\n<modular.ModuleNode.ModuleNode object at 0x7f24f4179850>\njoint\nselected_port : 2\nactive_ports:  0011\noccupied_ports:  0001\n[[ 1.00000000e+00  0.00000000e+00  0.00000000e+00  0.00000000e+00]\n [ 0.00000000e+00  7.96326711e-04 -9.99999683e-01 -1.31999958e-01]\n [ 0.00000000e+00  9.99999683e-01  7.96326711e-04 -7.20448849e-02]\n [ 0.00000000e+00  0.00000000e+00  0.00000000e+00  1.00000000e+00]]\n[[1. 0. 0. 0.]\n [0. 1. 0. 0.]\n [0. 0. 1. 0.]\n [0. 0. 0. 1.]]\n[[1.    0.    0.    0.   ]\n [0.    1.    0.    0.   ]\n [0.    0.    1.    0.214]\n [0.    0.    0.    1.   ]]\ntag_index:  1 list of chains:  1\nbase_link\n└── table\n    └── L_0_A\n        └── J1_A\n            └── J2_A\n                └── J3_A\n                    └── J4_A\n                        └── J5_A\n('module_type', 'joint')\nbig\nnew_module.tag: _A\nparent module:\n<modular.ModuleNode.ModuleNode object at 0x7f24e4b46510>\njoint\nselected_port : 2\nactive_ports:  0011\noccupied_ports:  0001\n[[1. 0. 0. 0.]\n [0. 1. 0. 0.]\n [0. 0. 1. 0.]\n [0. 0. 0. 1.]]\n[[1. 0. 0. 0.]\n [0. 1. 0. 0.]\n [0. 0. 1. 0.]\n [0. 0. 0. 1.]]\n[[ 1.00000000e+00  0.00000000e+00  0.00000000e+00  0.00000000e+00]\n [ 0.00000000e+00  7.96326711e-04  9.99999683e-01  7.21499771e-02]\n [ 0.00000000e+00 -9.99999683e-01  7.96326711e-04  1.32057455e-01]\n [ 0.00000000e+00  0.00000000e+00  0.00000000e+00  1.00000000e+00]]\ntag_index:  1 list of chains:  1\nbase_link\n└── table\n    └── L_0_A\n        └── J1_A\n            └── J2_A\n                └── J3_A\n                    └── J4_A\n                        └── J5_A\n                            └── J6_A\n('module_type', 'gripper')\nbig\nnew_module.tag: _A\nparent module:\n<modular.ModuleNode.ModuleNode object at 0x7f24e4b06990>\njoint\nselected_port : 2\nactive_ports:  0011\noccupied_ports:  0001\ntag_index:  1 list of chains:  1\n[[ 1.00000000e+00  0.00000000e+00  0.00000000e+00  0.00000000e+00]\n [ 0.00000000e+00  7.96326711e-04 -9.99999683e-01 -1.31999958e-01]\n [ 0.00000000e+00  9.99999683e-01  7.96326711e-04 -7.20448849e-02]\n [ 0.00000000e+00  0.00000000e+00  0.00000000e+00  1.00000000e+00]]\nbase_link\n└── table\n    └── L_0_A\n        └── J1_A\n            └── J2_A\n                └── J3_A\n                    └── J4_A\n                        └── J5_A\n                            └── J6_A\n                                └── gripper_A\nqueried_module_name:  table\nqueried_module.type:  link\n('module_type', 'link')\nbig\nselected_port : 2\nactive_ports:  0011\noccupied_ports:  0001\n[[1. 0. 0. 0.]\n [0. 1. 0. 0.]\n [0. 0. 1. 0.]\n [0. 0. 0. 1.]]\nbase_link\n└── table\n    ├── L_0_A\n    │   └── J1_A\n    │       └── J2_A\n    │           └── J3_A\n    │               └── J4_A\n    │                   └── J5_A\n    │                       └── J6_A\n    │                           └── gripper_A\n    └── L_0_B\n('module_type', 'joint')\nbig\nnew_module.tag: _B\nparent module:\n<modular.ModuleNode.ModuleNode object at 0x7f24e4b54790>\nlink\nselected_port : 2\nactive_ports:  0011\noccupied_ports:  0001\n[[1.   0.   0.   0.  ]\n [0.   1.   0.   0.  ]\n [0.   0.   1.   0.06]\n [0.   0.   0.   1.  ]]\n[[1. 0. 0. 0.]\n [0. 1. 0. 0.]\n [0. 0. 1. 0.]\n [0. 0. 0. 1.]]\n[[ 1.00000000e+00  0.00000000e+00  0.00000000e+00  0.00000000e+00]\n [ 0.00000000e+00  7.96326711e-04  9.99999683e-01  7.21499771e-02]\n [ 0.00000000e+00 -9.99999683e-01  7.96326711e-04  1.32057455e-01]\n [ 0.00000000e+00  0.00000000e+00  0.00000000e+00  1.00000000e+00]]\n[[1. 0. 0. 0.]\n [0. 1. 0. 0.]\n [0. 0. 1. 0.]\n [0. 0. 0. 1.]]\ntag_index:  2 list of chains:  1\nbase_link\n└── table\n    ├── L_0_A\n    │   └── J1_A\n    │       └── J2_A\n    │           └── J3_A\n    │               └── J4_A\n    │                   └── J5_A\n    │                       └── J6_A\n    │                           └── gripper_A\n    └── L_0_B\n        └── J1_B\n('module_type', 'gripper')\nbig\nnew_module.tag: _B\nparent module:\n<modular.ModuleNode.ModuleNode object at 0x7f24e4b6bf10>\njoint\nselected_port : 2\nactive_ports:  0011\noccupied_ports:  0001\ntag_index:  2 list of chains:  2\n[[ 1.00000000e+00  0.00000000e+00  0.00000000e+00  0.00000000e+00]\n [ 0.00000000e+00  7.96326711e-04 -9.99999683e-01 -1.31999958e-01]\n [ 0.00000000e+00  9.99999683e-01  7.96326711e-04 -7.20448849e-02]\n [ 0.00000000e+00  0.00000000e+00  0.00000000e+00  1.00000000e+00]]\nbase_link\n└── table\n    ├── L_0_A\n    │   └── J1_A\n    │       └── J2_A\n    │           └── J3_A\n    │               └── J4_A\n    │                   └── J5_A\n    │                       └── J6_A\n    │                           └── gripper_A\n    └── L_0_B\n        └── J1_B\n            └── gripper_B\n"
     ]
    }
   ],
   "source": [
    "urdf_writer.add_table()\n",
    "urdf_writer.add_socket()\n",
    "\n",
    "#data = urdf_writer.add_slave_cube(0)\n",
    "# J1\n",
    "data = urdf_writer.add_module('module_joint_yaw_ORANGE_B.yaml', 0, False)\n",
    "homing_joint_map[str(data['lastModule_name'])] = {'angle': 0.0}\n",
    "\n",
    "# J2\n",
    "data = urdf_writer.add_module('module_joint_double_elbow_ORANGE_B.yaml', 0, False)\n",
    "homing_joint_map[str(data['lastModule_name'])] = {'angle': 0.5}\n",
    "\n",
    "# J3\n",
    "data = urdf_writer.add_module('module_joint_yaw_ORANGE_B.yaml', 0, False)\n",
    "homing_joint_map[str(data['lastModule_name'])] = {'angle': 0.0}\n",
    "\n",
    "# J4\n",
    "data = urdf_writer.add_module('module_joint_double_elbow_ORANGE_B.yaml', 0, False)\n",
    "homing_joint_map[data['lastModule_name']] = {'angle': 1.0}\n",
    "\n",
    "# J5\n",
    "data = urdf_writer.add_module('module_joint_yaw_ORANGE_B.yaml', 0, False)\n",
    "homing_joint_map[str(data['lastModule_name'])] = {'angle': 0.0}\n",
    "\n",
    "# J6\n",
    "data = urdf_writer.add_module('module_joint_double_elbow_ORANGE_B.yaml', 0, False)\n",
    "homing_joint_map[str(data['lastModule_name'])] = {'angle': 1.5}\n",
    "\n",
    "data = urdf_writer.add_module('module_link_elbow_90_B.yaml', 0, False)\n",
    "\n",
    "# gripper\n",
    "data = urdf_writer.add_module('module_gripper.yaml', 0, False)\n",
    "\n",
    "#\n",
    "# urdf_writer.access_module('table')\n",
    "# urdf_writer.add_socket(0.5, 0.5)\n",
    "\n",
    "# data = urdf_writer.add_module('module_joint_double_elbow_ORANGE_B.yaml', 0, False)\n",
    "# homing_joint_map[str(data['lastModule_name'])] = {'angle': 1.5}\n",
    "\n",
    "# data = urdf_writer.add_module('module_gripper.yaml', 0, False)"
   ]
  },
  {
   "cell_type": "code",
   "execution_count": 5,
   "metadata": {
    "tags": []
   },
   "outputs": [
    {
     "output_type": "stream",
     "name": "stdout",
     "text": [
      "!!python/object:modular.ModuleNode.Module\ncontrol_mode: impedance_d4\nmax_current_A: 20.0\npid: !!python/object:modular.ModuleNode.Module\n  impedance:\n  - 500.0\n  - 20.0\n  - 1.0\n  - 0.01\n  - 0.99\n  position:\n  - 1000.0\n  - 0.0\n  - 30.0\npos_offset: 0\nsign: 1\n\n[('joint', <modular.ModuleNode.Module object at 0x7f24e4b9f910>), ('link', <modular.ModuleNode.Module object at 0x7f24e4b9fb10>)]\n<modular.ModuleNode.Module object at 0x7f24e4b9f950>\n!!python/object:modular.ModuleNode.Module\ncontrol_mode: impedance_d4\nmax_current_A: 30.0\npid: !!python/object:modular.ModuleNode.Module\n  impedance:\n  - 500.0\n  - 20.0\n  - 1.0\n  - 0.01\n  - 0.99\n  position:\n  - 1000.0\n  - 0.0\n  - 30.0\npos_offset: 0\nsign: 1\n\n[('joint', <modular.ModuleNode.Module object at 0x7f24e4b5d090>), ('link', <modular.ModuleNode.Module object at 0x7f24e4b5d290>)]\n<modular.ModuleNode.Module object at 0x7f24e4b5d210>\n!!python/object:modular.ModuleNode.Module\ncontrol_mode: impedance_d4\nmax_current_A: 20.0\npid: !!python/object:modular.ModuleNode.Module\n  impedance:\n  - 500.0\n  - 20.0\n  - 1.0\n  - 0.01\n  - 0.99\n  position:\n  - 1000.0\n  - 0.0\n  - 30.0\npos_offset: 0\nsign: 1\n\n[('joint', <modular.ModuleNode.Module object at 0x7f24e4b64d90>), ('link', <modular.ModuleNode.Module object at 0x7f24e4b64090>)]\n<modular.ModuleNode.Module object at 0x7f24e4b64990>\n!!python/object:modular.ModuleNode.Module\ncontrol_mode: impedance_d4\nmax_current_A: 30.0\npid: !!python/object:modular.ModuleNode.Module\n  impedance:\n  - 500.0\n  - 20.0\n  - 1.0\n  - 0.01\n  - 0.99\n  position:\n  - 1000.0\n  - 0.0\n  - 30.0\npos_offset: 0\nsign: 1\n\n[('joint', <modular.ModuleNode.Module object at 0x7f24e4b54e90>), ('link', <modular.ModuleNode.Module object at 0x7f24e4b54150>)]\n<modular.ModuleNode.Module object at 0x7f24e4b54750>\n!!python/object:modular.ModuleNode.Module\ncontrol_mode: impedance_d4\nmax_current_A: 20.0\npid: !!python/object:modular.ModuleNode.Module\n  impedance:\n  - 500.0\n  - 20.0\n  - 1.0\n  - 0.01\n  - 0.99\n  position:\n  - 1000.0\n  - 0.0\n  - 30.0\npos_offset: 0\nsign: 1\n\n[('joint', <modular.ModuleNode.Module object at 0x7f24e4b6b3d0>), ('link', <modular.ModuleNode.Module object at 0x7f24e4b6b110>)]\n<modular.ModuleNode.Module object at 0x7f24e4b6bcd0>\n!!python/object:modular.ModuleNode.Module\ncontrol_mode: impedance_d4\nmax_current_A: 30.0\npid: !!python/object:modular.ModuleNode.Module\n  impedance:\n  - 500.0\n  - 20.0\n  - 1.0\n  - 0.01\n  - 0.99\n  position:\n  - 1000.0\n  - 0.0\n  - 30.0\npos_offset: 0\nsign: 1\n\n[('joint', <modular.ModuleNode.Module object at 0x7f24e4b5db10>), ('link', <modular.ModuleNode.Module object at 0x7f24e4b5db90>)]\n<modular.ModuleNode.Module object at 0x7f24e4b5de50>\n[('joint', <modular.ModuleNode.Module object at 0x7f24e4b64ed0>), ('link', <modular.ModuleNode.Module object at 0x7f24e4b64e50>)]\n<modular.ModuleNode.Module object at 0x7f24e4b5de50>\n!!python/object:modular.ModuleNode.Module\ncontrol_mode: impedance_d4\nmax_current_A: 30.0\npid: !!python/object:modular.ModuleNode.Module\n  impedance:\n  - 500.0\n  - 20.0\n  - 1.0\n  - 0.01\n  - 0.99\n  position:\n  - 1000.0\n  - 0.0\n  - 30.0\npos_offset: 0\nsign: 1\n\n[('joint', <modular.ModuleNode.Module object at 0x7f24e4b4cbd0>), ('link', <modular.ModuleNode.Module object at 0x7f24e4b4c7d0>)]\n<modular.ModuleNode.Module object at 0x7f24e4b4c510>\n[('joint', <modular.ModuleNode.Module object at 0x7f24e4bb0c10>), ('link', <modular.ModuleNode.Module object at 0x7f24e4bb0290>)]\n<modular.ModuleNode.Module object at 0x7f24e4b4c510>\n('stack', [['EE']])\n[('stack', [['EE']]), ('EE', OrderedDict([('type', 'Interaction'), ('base_link', 'J1_A_stator'), ('distal_link', 'tool_exchanger_A'), ('stiffness', [50.0, 50.0, 50.0, 1.0, 1.0, 1.0]), ('damping', [0.7, 0.7, 0.7, 0.7, 0.7, 0.7])]))]\n[[<modular.ModuleNode.ModuleNode object at 0x7f24f415f990>, <modular.ModuleNode.ModuleNode object at 0x7f24e4b96890>, <modular.ModuleNode.ModuleNode object at 0x7f24e4b641d0>, <modular.ModuleNode.ModuleNode object at 0x7f24e4b9ff90>, <modular.ModuleNode.ModuleNode object at 0x7f24e4b6b910>, <modular.ModuleNode.ModuleNode object at 0x7f24e4b5d990>, <modular.ModuleNode.ModuleNode object at 0x7f24e4b64b50>], [<modular.ModuleNode.ModuleNode object at 0x7f24e4b4c8d0>, <modular.ModuleNode.ModuleNode object at 0x7f24e4bb0c50>]]\n0.0\n0.5\n0.0\n1.0\n0.0\n1.5\n1.5\n"
     ]
    },
    {
     "output_type": "execute_result",
     "data": {
      "text/plain": [
       "{'joint_map': {1: 'J1_A',\n",
       "  2: 'J2_A',\n",
       "  3: 'J3_A',\n",
       "  4: 'J4_A',\n",
       "  5: 'J5_A',\n",
       "  6: 'J6_A',\n",
       "  7: 'gripper',\n",
       "  8: 'J1_B',\n",
       "  9: 'gripper'}}"
      ]
     },
     "metadata": {},
     "execution_count": 5
    }
   ],
   "source": [
    "# get srdf and joint_map\n",
    "urdf_writer.process_urdf()\n",
    "urdf_writer.write_urdf()\n",
    "urdf_writer.write_lowlevel_config()\n",
    "urdf_writer.write_problem_description()\n",
    "urdf_writer.write_srdf(homing_joint_map)\n",
    "urdf_writer.write_joint_map()"
   ]
  },
  {
   "cell_type": "code",
   "execution_count": 13,
   "metadata": {},
   "outputs": [
    {
     "output_type": "stream",
     "name": "stdout",
     "text": [
      "All done! You can now deply the package using \u001b[3m\u001b[92m[path_to_modular]\u001b[0m\u001b[92m/src/modular/modular_data/deploy.sh\u001b[0m\n"
     ]
    }
   ],
   "source": [
    "# Save to file\n",
    "# output_file = os.path.join(output_dir, robot_name)\n",
    "# with open(output_file+\".urdf\", \"w\") as text_file:\n",
    "#     text_file.write(urdf_string)\n",
    "# with open(output_file+\".srdf\", \"w\") as text_file:\n",
    "#     text_file.write(srdf_string)\n",
    "print(\"All done! You can now deply the package using \\033[3m\\033[92m[path_to_modular]\\033[0m\\33[92m/src/modular/modular_data/deploy.sh\\033[0m\")"
   ]
  },
  {
   "cell_type": "code",
   "execution_count": 17,
   "metadata": {},
   "outputs": [
    {
     "output_type": "stream",
     "name": "stdout",
     "text": [
      "/home/tree/modular/src/modular/modular_data/deploy.sh\n",
      "pino_moveit\n",
      "Verbose mode \u001b[0;32mON\u001b[0m\n",
      "\u001b[0;32mDeploying package \u001b[1;33mpino_moveit\u001b[0;32m into \u001b[1;33m/home/tree/moveit_ws/src\u001b[0m\n",
      "'/home/tree/modular/src/modular/modular_data/ModularBot/package.xml' -> './package.xml'\n",
      "'/home/tree/modular/src/modular/modular_data/ModularBot/CMakeLists.txt' -> './CMakeLists.txt'\n",
      "\u001b[0;32m[1/9] Deployed ROS package config files\u001b[0m\n",
      "'/tmp/modular/configs/ModularBot.yaml' -> './configs/ModularBot.yaml'\n",
      "'/home/tree/modular/src/modular/modular_data/ModularBot/ModularBot_basic.yaml' -> './ModularBot_basic.yaml'\n",
      "\u001b[0;32m[2/9] Deployed XBot2 configs\u001b[0m\n",
      "'/home/tree/modular/src/modular/modular_data/ModularBot/cartesio/cartesio.launch' -> './cartesio/cartesio.launch'\n",
      "'/home/tree/modular/src/modular/modular_data/moveit_config/sensors_kinect_depthmap.yaml' -> './moveit_config/sensors_kinect_depthmap.yaml'\n",
      "'/home/tree/modular/src/modular/modular_data/moveit_config/sensors_kinect_pointcloud.yaml' -> './moveit_config/sensors_kinect_pointcloud.yaml'\n",
      "'/tmp/modular/moveit_config/fake_controllers.yaml' -> './moveit_config/fake_controllers.yaml'\n",
      "'/tmp/modular/moveit_config/kinematics.yaml' -> './moveit_config/kinematics.yaml'\n",
      "'/tmp/modular/moveit_config/ompl_planning.yaml' -> './moveit_config/ompl_planning.yaml'\n",
      "\u001b[0;32m[3/9] Deployed configs\u001b[0m\n",
      "'/home/tree/modular/src/modular/modular_data/ModularBot/launch/ModularBot_ik.launch' -> './launch/ModularBot_ik.launch'\n",
      "'/home/tree/modular/src/modular/modular_data/ModularBot/launch/ModularBot_sliders.launch' -> './launch/ModularBot_sliders.launch'\n",
      "\u001b[0;32m[4/9] Deployed ModularBot_ik.launch and ModularBot_sliders.launch\u001b[0m\n",
      "'/tmp/modular/launch/ros_controllers.launch' -> './launch/ros_controllers.launch'\n",
      "'/home/tree/modular/src/modular/modular_data/moveit_launch/update_collision.launch' -> './launch/update_collision.launch'\n",
      "'/home/tree/modular/src/modular/modular_data/moveit_launch/demo.launch' -> './launch/demo.launch'\n",
      "'/home/tree/modular/src/modular/modular_data/moveit_launch/demo_gazebo.launch' -> './launch/demo_gazebo.launch'\n",
      "'/home/tree/modular/src/modular/modular_data/moveit_launch/fake_moveit_controller_manager.launch.xml' -> './launch/fake_moveit_controller_manager.launch.xml'\n",
      "'/home/tree/modular/src/modular/modular_data/moveit_launch/gazebo.launch' -> './launch/gazebo.launch'\n",
      "'/home/tree/modular/src/modular/modular_data/moveit_launch/move_group.launch' -> './launch/move_group.launch'\n",
      "'/home/tree/modular/src/modular/modular_data/moveit_launch/moveit.rviz' -> './launch/moveit.rviz'\n",
      "'/home/tree/modular/src/modular/modular_data/moveit_launch/moveit_empty.rviz' -> './launch/moveit_empty.rviz'\n",
      "'/home/tree/modular/src/modular/modular_data/moveit_launch/moveit_rviz.launch' -> './launch/moveit_rviz.launch'\n",
      "'/home/tree/modular/src/modular/modular_data/moveit_launch/ompl_planning_pipeline.launch.xml' -> './launch/ompl_planning_pipeline.launch.xml'\n",
      "'/home/tree/modular/src/modular/modular_data/moveit_launch/pino_moveit_controller_manager.launch.xml' -> './launch/pino_moveit_controller_manager.launch.xml'\n",
      "'/home/tree/modular/src/modular/modular_data/moveit_launch/pino_moveit_sensor_manager.launch.xml' -> './launch/pino_moveit_sensor_manager.launch.xml'\n",
      "'/home/tree/modular/src/modular/modular_data/moveit_launch/planning_context.launch' -> './launch/planning_context.launch'\n",
      "'/home/tree/modular/src/modular/modular_data/moveit_launch/planning_pipeline.launch.xml' -> './launch/planning_pipeline.launch.xml'\n",
      "'/home/tree/modular/src/modular/modular_data/moveit_launch/sensor_manager.launch.xml' -> './launch/sensor_manager.launch.xml'\n",
      "'/home/tree/modular/src/modular/modular_data/moveit_launch/trajectory_execution.launch.xml' -> './launch/trajectory_execution.launch.xml'\n",
      "'/home/tree/modular/src/modular/modular_data/../web/static/models/modular' -> './database/modular'\n",
      "'/home/tree/modular/src/modular/modular_data/../web/static/models/modular/meshes' -> './database/modular/meshes'\n",
      "'/home/tree/modular/src/modular/modular_data/../web/static/models/modular/meshes/asm0001.stl' -> './database/modular/meshes/asm0001.stl'\n",
      "'/home/tree/modular/src/modular/modular_data/../web/static/models/modular/meshes/elbow_base.stl' -> './database/modular/meshes/elbow_base.stl'\n",
      "'/home/tree/modular/src/modular/modular_data/../web/static/models/modular/meshes/elbow_link.stl' -> './database/modular/meshes/elbow_link.stl'\n",
      "'/home/tree/modular/src/modular/modular_data/../web/static/models/modular/meshes/elbow_link_new.stl' -> './database/modular/meshes/elbow_link_new.stl'\n",
      "'/home/tree/modular/src/modular/modular_data/../web/static/models/modular/meshes/fixed_parts.stl' -> './database/modular/meshes/fixed_parts.stl'\n",
      "'/home/tree/modular/src/modular/modular_data/../web/static/models/modular/meshes/rotating_parts.stl' -> './database/modular/meshes/rotating_parts.stl'\n",
      "'/home/tree/modular/src/modular/modular_data/../web/static/models/modular/meshes/simple' -> './database/modular/meshes/simple'\n",
      "'/home/tree/modular/src/modular/modular_data/../web/static/models/modular/meshes/simple/asm0001.stl' -> './database/modular/meshes/simple/asm0001.stl'\n",
      "'/home/tree/modular/src/modular/modular_data/../web/static/models/modular/meshes/simple/elbow_base.stl' -> './database/modular/meshes/simple/elbow_base.stl'\n",
      "'/home/tree/modular/src/modular/modular_data/../web/static/models/modular/meshes/simple/elbow_link.stl' -> './database/modular/meshes/simple/elbow_link.stl'\n",
      "'/home/tree/modular/src/modular/modular_data/../web/static/models/modular/meshes/simple/rotating_parts.stl' -> './database/modular/meshes/simple/rotating_parts.stl'\n",
      "'/home/tree/modular/src/modular/modular_data/../web/static/models/modular/meshes/simple/space_cube.stl' -> './database/modular/meshes/simple/space_cube.stl'\n",
      "'/home/tree/modular/src/modular/modular_data/../web/static/models/modular/meshes/simple/yaw_base.stl' -> './database/modular/meshes/simple/yaw_base.stl'\n",
      "'/home/tree/modular/src/modular/modular_data/../web/static/models/modular/meshes/simple/yaw_link.stl' -> './database/modular/meshes/simple/yaw_link.stl'\n",
      "'/home/tree/modular/src/modular/modular_data/../web/static/models/modular/meshes/simple/fingerup_7_raised.stl' -> './database/modular/meshes/simple/fingerup_7_raised.stl'\n",
      "'/home/tree/modular/src/modular/modular_data/../web/static/models/modular/meshes/simple/gripper_outer_assembly_simplified.stl' -> './database/modular/meshes/simple/gripper_outer_assembly_simplified.stl'\n",
      "'/home/tree/modular/src/modular/modular_data/../web/static/models/modular/meshes/space_cube.stl' -> './database/modular/meshes/space_cube.stl'\n",
      "'/home/tree/modular/src/modular/modular_data/../web/static/models/modular/meshes/tool_exchanger.stl' -> './database/modular/meshes/tool_exchanger.stl'\n",
      "'/home/tree/modular/src/modular/modular_data/../web/static/models/modular/meshes/yaw_base.stl' -> './database/modular/meshes/yaw_base.stl'\n",
      "'/home/tree/modular/src/modular/modular_data/../web/static/models/modular/meshes/yaw_link.stl' -> './database/modular/meshes/yaw_link.stl'\n",
      "'/home/tree/modular/src/modular/modular_data/../web/static/models/modular/meshes/fingerup_7_raised.stl' -> './database/modular/meshes/fingerup_7_raised.stl'\n",
      "'/home/tree/modular/src/modular/modular_data/../web/static/models/modular/meshes/gripper_outer_assembly.stl' -> './database/modular/meshes/gripper_outer_assembly.stl'\n",
      "'/home/tree/modular/src/modular/modular_data/../web/static/models/modular/meshes/gripper_outer_assembly_simplified.stl' -> './database/modular/meshes/gripper_outer_assembly_simplified.stl'\n",
      "'/home/tree/modular/src/modular/modular_data/../web/static/models/modular/meshes/mesh_pitch-base.stl' -> './database/modular/meshes/mesh_pitch-base.stl'\n",
      "'/home/tree/modular/src/modular/modular_data/../web/static/models/modular/meshes/mesh_pitch-link.stl' -> './database/modular/meshes/mesh_pitch-link.stl'\n",
      "'/home/tree/modular/src/modular/modular_data/../web/static/models/modular/meshes/mesh_yaw.stl' -> './database/modular/meshes/mesh_yaw.stl'\n",
      "'/home/tree/modular/src/modular/modular_data/../web/static/models/modular/meshes/mesh_yaw_base.stl' -> './database/modular/meshes/mesh_yaw_base.stl'\n",
      "\u001b[0;32m[5/9] Deployed meshes\u001b[0m\n",
      "'/tmp/modular/joint_map/ModularBot_joint_map.yaml' -> './joint_map/ModularBot_joint_map.yaml'\n",
      "\u001b[0;32m[6/9] Deployed joint map\u001b[0m\n",
      "'/tmp/modular/srdf/ModularBot.srdf' -> './srdf/ModularBot.srdf'\n",
      "\u001b[0;32m[7/9] Deployed SRDF\u001b[0m\n",
      "'/tmp/modular/urdf/ModularBot.urdf' -> './urdf/ModularBot.urdf'\n",
      "\u001b[0;32m[8/9] Deployed URDF\u001b[0m\n",
      "'/home/tree/modular/src/modular/modular_data/ModularBot/database/ModularBot_fixed_base/ModularBot_world.sdf' -> './database/pino_moveit_fixed_base/pino_moveit_world.sdf'\n",
      "'/home/tree/modular/src/modular/modular_data/ModularBot/database/ModularBot_fixed_base/manifest.xml' -> './database/pino_moveit_fixed_base/manifest.xml'\n",
      "'/home/tree/modular/src/modular/modular_data/ModularBot/database/ModularBot_fixed_base/model.config' -> './database/pino_moveit_fixed_base/model.config'\n",
      "\u001b[0;32m[9/9] Deployed gazebo model\u001b[0m\n",
      "\n",
      "\u001b[0;32m[ ✔ ] Package \u001b[1;33mpino_moveit\u001b[0;32m succesfully deployed into \u001b[1;33m/home/tree/moveit_ws/src\u001b[0m\n",
      "\n",
      "\n"
     ]
    },
    {
     "output_type": "execute_result",
     "data": {
      "text/plain": [
       "'pino_moveit'"
      ]
     },
     "metadata": {},
     "execution_count": 17
    }
   ],
   "source": [
    "urdf_writer.deploy_robot(\"pino_moveit\")"
   ]
  },
  {
   "cell_type": "code",
   "execution_count": null,
   "metadata": {},
   "outputs": [],
   "source": []
  }
 ]
}
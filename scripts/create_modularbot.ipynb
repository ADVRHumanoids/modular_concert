{
 "cells": [
  {
   "cell_type": "code",
   "execution_count": 8,
   "metadata": {},
   "outputs": [],
   "source": [
    "import os\n",
    "import sys\n",
    "from modular.URDF_writer import UrdfWriter"
   ]
  },
  {
   "cell_type": "code",
   "execution_count": 9,
   "metadata": {},
   "outputs": [
    {
     "name": "stdout",
     "output_type": "stream",
     "text": [
      "/home/tree/xbot2_ws/src/modular/src/modular/config_file.yaml\n"
     ]
    }
   ],
   "source": [
    "#create UrdfWriter object adn joint map to store homing values\n",
    "urdf_writer = UrdfWriter(speedup=True)\n",
    "homing_joint_map = {}"
   ]
  },
  {
   "cell_type": "code",
   "execution_count": 10,
   "metadata": {},
   "outputs": [
    {
     "name": "stdout",
     "output_type": "stream",
     "text": [
      "base_link\n",
      "└── L_0_A\n",
      "/tmp\n",
      "module_joint_yaw_ORANGE_B.yaml\n",
      "new_module.tag: _A\n",
      "parent module:\n",
      "<modular.ModuleNode.ModuleNode object at 0x7fce365f6ed0>\n",
      "link\n",
      "mastercube.selected_port : 2\n",
      "active_ports:  0011\n",
      "occupied_ports:  0001\n",
      "link + joint\n",
      "tag_index:  1 list of chains:  0\n",
      "base_link\n",
      "└── L_0_A\n",
      "    └── J1_A\n",
      "/tmp\n",
      "module_joint_double_elbow_ORANGE_B.yaml\n",
      "new_module.tag: _A\n",
      "parent module:\n",
      "<modular.ModuleNode.ModuleNode object at 0x7fce36736c10>\n",
      "joint\n",
      "mastercube.selected_port : 2\n",
      "active_ports:  0011\n",
      "occupied_ports:  0001\n",
      "joint + joint\n",
      "tag_index:  1 list of chains:  1\n",
      "base_link\n",
      "└── L_0_A\n",
      "    └── J1_A\n",
      "        └── J2_A\n",
      "/tmp\n",
      "module_joint_yaw_ORANGE_B.yaml\n",
      "new_module.tag: _A\n",
      "parent module:\n",
      "<modular.ModuleNode.ModuleNode object at 0x7fce3474abd0>\n",
      "joint\n",
      "mastercube.selected_port : 2\n",
      "active_ports:  0011\n",
      "occupied_ports:  0001\n",
      "joint + joint\n",
      "tag_index:  1 list of chains:  1\n",
      "base_link\n",
      "└── L_0_A\n",
      "    └── J1_A\n",
      "        └── J2_A\n",
      "            └── J3_A\n",
      "/tmp\n",
      "module_joint_double_elbow_ORANGE_B.yaml\n",
      "new_module.tag: _A\n",
      "parent module:\n",
      "<modular.ModuleNode.ModuleNode object at 0x7fce2749e810>\n",
      "joint\n",
      "mastercube.selected_port : 2\n",
      "active_ports:  0011\n",
      "occupied_ports:  0001\n",
      "joint + joint\n",
      "tag_index:  1 list of chains:  1\n",
      "base_link\n",
      "└── L_0_A\n",
      "    └── J1_A\n",
      "        └── J2_A\n",
      "            └── J3_A\n",
      "                └── J4_A\n",
      "/tmp\n",
      "module_joint_yaw_ORANGE_B.yaml\n",
      "new_module.tag: _A\n",
      "parent module:\n",
      "<modular.ModuleNode.ModuleNode object at 0x7fce24fb2d10>\n",
      "joint\n",
      "mastercube.selected_port : 2\n",
      "active_ports:  0011\n",
      "occupied_ports:  0001\n",
      "joint + joint\n",
      "tag_index:  1 list of chains:  1\n",
      "base_link\n",
      "└── L_0_A\n",
      "    └── J1_A\n",
      "        └── J2_A\n",
      "            └── J3_A\n",
      "                └── J4_A\n",
      "                    └── J5_A\n",
      "/tmp\n",
      "module_joint_double_elbow_ORANGE_B.yaml\n",
      "new_module.tag: _A\n",
      "parent module:\n",
      "<modular.ModuleNode.ModuleNode object at 0x7fce24fbf250>\n",
      "joint\n",
      "mastercube.selected_port : 2\n",
      "active_ports:  0011\n",
      "occupied_ports:  0001\n",
      "joint + joint\n",
      "tag_index:  1 list of chains:  1\n",
      "base_link\n",
      "└── L_0_A\n",
      "    └── J1_A\n",
      "        └── J2_A\n",
      "            └── J3_A\n",
      "                └── J4_A\n",
      "                    └── J5_A\n",
      "                        └── J6_A\n",
      "tag_index:  1 list of chains:  1\n"
     ]
    },
    {
     "data": {
      "text/plain": [
       "{'count': 6,\n",
       " 'lastModule_name': 'ee_A',\n",
       " 'lastModule_type': 'simple_ee',\n",
       " 'result': '',\n",
       " 'size': 3}"
      ]
     },
     "execution_count": 10,
     "metadata": {},
     "output_type": "execute_result"
    }
   ],
   "source": [
    "# urdf_writer.add_table()\n",
    "# urdf_writer.add_socket(0.150, 0.225, 0.0, 0.0)\n",
    "urdf_writer.add_socket(0.0, 0.0, 0.0, 0.0)\n",
    "\n",
    "\n",
    "#data = urdf_writer.add_slave_cube(0)\n",
    "# J1\n",
    "data = urdf_writer.add_module('module_joint_yaw_ORANGE_B.yaml', 0, False)\n",
    "homing_joint_map[str(data['lastModule_name'])] = {'angle': 0.0}\n",
    "\n",
    "# J2\n",
    "data = urdf_writer.add_module('module_joint_double_elbow_ORANGE_B.yaml', 0, False)\n",
    "homing_joint_map[str(data['lastModule_name'])] = {'angle': 0.5}\n",
    "\n",
    "# J3\n",
    "data = urdf_writer.add_module('module_joint_yaw_ORANGE_B.yaml', 0, False)\n",
    "homing_joint_map[str(data['lastModule_name'])] = {'angle': 0.0}\n",
    "\n",
    "# J4\n",
    "data = urdf_writer.add_module('module_joint_double_elbow_ORANGE_B.yaml', 0, False)\n",
    "homing_joint_map[data['lastModule_name']] = {'angle': 1.0}\n",
    "\n",
    "# J5\n",
    "data = urdf_writer.add_module('module_joint_yaw_ORANGE_B.yaml', 0, False)\n",
    "homing_joint_map[str(data['lastModule_name'])] = {'angle': 0.0}\n",
    "\n",
    "# J6\n",
    "data = urdf_writer.add_module('module_joint_double_elbow_ORANGE_B.yaml', 0, False)\n",
    "homing_joint_map[str(data['lastModule_name'])] = {'angle': 1.5}\n",
    "\n",
    "# data = urdf_writer.add_module('module_link_elbow_90_B.yaml', 0, False)\n",
    "\n",
    "# gripper\n",
    "# data = urdf_writer.add_module('module_gripper.yaml', 0, False)\n",
    "urdf_writer.add_simple_ee(0.0, 0.0, 0.189, 0.0)\n",
    "\n",
    "\n",
    "# urdf_writer.access_module('table')\n",
    "# urdf_writer.add_socket(0.5, 0.5)\n",
    "\n",
    "# data = urdf_writer.add_module('module_joint_double_elbow_ORANGE_B.yaml', 0, False)\n",
    "# homing_joint_map[str(data['lastModule_name'])] = {'angle': 1.5}\n",
    "\n",
    "# data = urdf_writer.add_module('module_gripper.yaml', 0, False)"
   ]
  },
  {
   "cell_type": "code",
   "execution_count": 11,
   "metadata": {
    "tags": []
   },
   "outputs": [
    {
     "name": "stdout",
     "output_type": "stream",
     "text": [
      "('xbotcore_devices', OrderedDict([('joint_ec', OrderedDict([('names', []), ('thread', 'rt_main'), ('params', OrderedDict([('robot_name', OrderedDict([('value', 'NoNe'), ('type', 'string')])), ('config_ec_idle', OrderedDict([('value', '$PWD/../joint_config/ModularBot_idle.yaml'), ('type', 'yamlfile')])), ('config_ec_imp', OrderedDict([('value', '$PWD/../joint_config/ModularBot_impd4.yaml'), ('type', 'yamlfile')])), ('joint_id_map', OrderedDict([('value', '$PWD/../../joint_map/ModularBot_joint_map.yaml'), ('type', 'yamlfile')]))]))])), ('albero_gripper', OrderedDict([('names', []), ('thread', 'rt_main'), ('params', OrderedDict([('joint_id_map', OrderedDict([('value', '$PWD/../../joint_map/ModularBot_joint_map.yaml'), ('type', 'yamlfile')]))]))])), ('imu_ec', OrderedDict([('names', []), ('thread', 'rt_main'), ('params', OrderedDict([('robot_name', OrderedDict([('value', 'NoNe'), ('type', 'string')])), ('joint_id_map', OrderedDict([('value', '$PWD/../../joint_map/ModularBot_joint_map.yaml'), ('type', 'yamlfile')]))]))])), ('pow_ec', OrderedDict([('names', []), ('thread', 'rt_main'), ('params', OrderedDict([('robot_name', OrderedDict([('value', 'NoNe'), ('type', 'string')])), ('joint_id_map', OrderedDict([('value', '$PWD/../../joint_map/ModularBot_joint_map.yaml'), ('type', 'yamlfile')]))]))])), ('joint_master', OrderedDict([('master', True), ('thread', 'rt_main')]))]))\n",
      "[('robot_name', OrderedDict([('value', 'NoNe'), ('type', 'string')])), ('config_ec_idle', OrderedDict([('value', '$PWD/../joint_config/ModularBot_idle.yaml'), ('type', 'yamlfile')])), ('config_ec_imp', OrderedDict([('value', '$PWD/../joint_config/ModularBot_impd4.yaml'), ('type', 'yamlfile')])), ('joint_id_map', OrderedDict([('value', '$PWD/../../joint_map/ModularBot_joint_map.yaml'), ('type', 'yamlfile')]))]\n",
      "('zmq_setup', OrderedDict([('timeout', 1000)]))\n",
      "('zmq_setup', OrderedDict([('timeout', 1000)]))\n",
      "[[<modular.ModuleNode.ModuleNode object at 0x7fce36736c10>, <modular.ModuleNode.ModuleNode object at 0x7fce3474abd0>, <modular.ModuleNode.ModuleNode object at 0x7fce2749e810>, <modular.ModuleNode.ModuleNode object at 0x7fce24fb2d10>, <modular.ModuleNode.ModuleNode object at 0x7fce24fbf250>, <modular.ModuleNode.ModuleNode object at 0x7fce2501c750>, <modular.ModuleNode.ModuleNode object at 0x7fce2501c850>]]\n"
     ]
    },
    {
     "data": {
      "text/plain": [
       "{'albero_gripper_map': {},\n",
       " 'joint_map': {1: 'J1_A',\n",
       "  2: 'J2_A',\n",
       "  3: 'J3_A',\n",
       "  4: 'J4_A',\n",
       "  5: 'J5_A',\n",
       "  6: 'J6_A'}}"
      ]
     },
     "execution_count": 11,
     "metadata": {},
     "output_type": "execute_result"
    }
   ],
   "source": [
    "# get srdf and joint_map\n",
    "# urdf_writer.process_urdf()\n",
    "urdf_writer.write_urdf()\n",
    "urdf_writer.write_lowlevel_config()\n",
    "urdf_writer.write_problem_description_multi()\n",
    "urdf_writer.write_srdf(homing_joint_map)\n",
    "urdf_writer.write_joint_map()"
   ]
  },
  {
   "cell_type": "code",
   "execution_count": 12,
   "metadata": {},
   "outputs": [
    {
     "name": "stdout",
     "output_type": "stream",
     "text": [
      "All done! You can now deply the package using \u001b[3m\u001b[92m[path_to_modular]\u001b[0m\u001b[92m/src/modular/modular_data/deploy.sh\u001b[0m\n"
     ]
    }
   ],
   "source": [
    "# Save to file\n",
    "# output_file = os.path.join(output_dir, robot_name)\n",
    "# with open(output_file+\".urdf\", \"w\") as text_file:\n",
    "#     text_file.write(urdf_string)\n",
    "# with open(output_file+\".srdf\", \"w\") as text_file:\n",
    "#     text_file.write(srdf_string)\n",
    "print(\"All done! You can now deply the package using \\033[3m\\033[92m[path_to_modular]\\033[0m\\33[92m/src/modular/modular_data/deploy.sh\\033[0m\")"
   ]
  },
  {
   "cell_type": "code",
   "execution_count": 13,
   "metadata": {},
   "outputs": [
    {
     "name": "stdout",
     "output_type": "stream",
     "text": [
      "Verbose mode \u001b[0;32mON\u001b[0m\n",
      "\u001b[0;32mDeploying package \u001b[1;33mModularBot6\u001b[0;32m into \u001b[1;33m/home/tree/xbot_ws/src\u001b[0m\n",
      "'/home/tree/xbot2_ws/src/modular/src/modular/modular_data/package.xml' -> './package.xml'\n",
      "'/home/tree/xbot2_ws/src/modular/src/modular/modular_data/CMakeLists.txt' -> './CMakeLists.txt'\n",
      "\u001b[0;32m[1/9] Deployed ROS package config files\u001b[0m\n",
      "'/tmp/ModularBot/config/hal/ModularBot_ec_all.yaml' -> './config/hal/ModularBot_ec_all.yaml'\n",
      "'/home/tree/xbot2_ws/src/modular/src/modular/modular_data/configs/low_level/hal/ModularBot_gz.yaml' -> './config/hal/ModularBot_gz.yaml'\n",
      "'/home/tree/xbot2_ws/src/modular/src/modular/modular_data/configs/low_level/hal/ModularBot_dummy.yaml' -> './config/hal/ModularBot_dummy.yaml'\n",
      "'/tmp/ModularBot/config/joint_config/ModularBot_idle.yaml' -> './config/joint_config/ModularBot_idle.yaml'\n",
      "'/tmp/ModularBot/config/joint_config/ModularBot_impd4.yaml' -> './config/joint_config/ModularBot_impd4.yaml'\n",
      "'/home/tree/xbot2_ws/src/modular/src/modular/modular_data/configs/ModularBot_xbot2.yaml' -> './config/ModularBot.yaml'\n",
      "\u001b[0;32m[2/9] Deployed XBot2 configs\u001b[0m\n",
      "'/tmp/ModularBot/cartesio/ModularBot_cartesio_config.yaml' -> './cartesio/ModularBot_cartesio_config.yaml'\n",
      "\u001b[0;32m[3/9] Deployed cartesio configs\u001b[0m\n",
      "'/home/tree/xbot2_ws/src/modular/src/modular/modular_data/launch/cartesio.launch' -> './launch/ModularBot_cartesio.launch'\n",
      "'/home/tree/xbot2_ws/src/modular/src/modular/modular_data/launch/ModularBot_ik.launch' -> './launch/ModularBot_ik.launch'\n",
      "'/home/tree/xbot2_ws/src/modular/src/modular/modular_data/launch/ModularBot_sliders.launch' -> './launch/ModularBot_sliders.launch'\n",
      "'/home/tree/xbot2_ws/src/modular/src/modular/modular_data/launch/ModularBot_gazebo.launch' -> './launch/ModularBot_gazebo.launch'\n",
      "\u001b[0;32m[4/9] Deployed ModularBot launch files\u001b[0m\n",
      "'/home/tree/xbot2_ws/src/modular/src/modular/modular_data/../web/static/models/modular' -> './database/modular'\n",
      "'/home/tree/xbot2_ws/src/modular/src/modular/modular_data/../web/static/models/modular/meshes' -> './database/modular/meshes'\n",
      "'/home/tree/xbot2_ws/src/modular/src/modular/modular_data/../web/static/models/modular/meshes/asm0001.stl' -> './database/modular/meshes/asm0001.stl'\n",
      "'/home/tree/xbot2_ws/src/modular/src/modular/modular_data/../web/static/models/modular/meshes/elbow_base.stl' -> './database/modular/meshes/elbow_base.stl'\n",
      "'/home/tree/xbot2_ws/src/modular/src/modular/modular_data/../web/static/models/modular/meshes/elbow_link.stl' -> './database/modular/meshes/elbow_link.stl'\n",
      "'/home/tree/xbot2_ws/src/modular/src/modular/modular_data/../web/static/models/modular/meshes/elbow_link_new.stl' -> './database/modular/meshes/elbow_link_new.stl'\n",
      "'/home/tree/xbot2_ws/src/modular/src/modular/modular_data/../web/static/models/modular/meshes/fixed_parts.stl' -> './database/modular/meshes/fixed_parts.stl'\n",
      "'/home/tree/xbot2_ws/src/modular/src/modular/modular_data/../web/static/models/modular/meshes/rotating_parts.stl' -> './database/modular/meshes/rotating_parts.stl'\n",
      "'/home/tree/xbot2_ws/src/modular/src/modular/modular_data/../web/static/models/modular/meshes/simple' -> './database/modular/meshes/simple'\n",
      "'/home/tree/xbot2_ws/src/modular/src/modular/modular_data/../web/static/models/modular/meshes/simple/asm0001.stl' -> './database/modular/meshes/simple/asm0001.stl'\n",
      "'/home/tree/xbot2_ws/src/modular/src/modular/modular_data/../web/static/models/modular/meshes/simple/elbow_base.stl' -> './database/modular/meshes/simple/elbow_base.stl'\n",
      "'/home/tree/xbot2_ws/src/modular/src/modular/modular_data/../web/static/models/modular/meshes/simple/elbow_link.stl' -> './database/modular/meshes/simple/elbow_link.stl'\n",
      "'/home/tree/xbot2_ws/src/modular/src/modular/modular_data/../web/static/models/modular/meshes/simple/rotating_parts.stl' -> './database/modular/meshes/simple/rotating_parts.stl'\n",
      "'/home/tree/xbot2_ws/src/modular/src/modular/modular_data/../web/static/models/modular/meshes/simple/space_cube.stl' -> './database/modular/meshes/simple/space_cube.stl'\n",
      "'/home/tree/xbot2_ws/src/modular/src/modular/modular_data/../web/static/models/modular/meshes/simple/yaw_base.stl' -> './database/modular/meshes/simple/yaw_base.stl'\n",
      "'/home/tree/xbot2_ws/src/modular/src/modular/modular_data/../web/static/models/modular/meshes/simple/yaw_link.stl' -> './database/modular/meshes/simple/yaw_link.stl'\n",
      "'/home/tree/xbot2_ws/src/modular/src/modular/modular_data/../web/static/models/modular/meshes/simple/fingerup_7_raised.stl' -> './database/modular/meshes/simple/fingerup_7_raised.stl'\n",
      "'/home/tree/xbot2_ws/src/modular/src/modular/modular_data/../web/static/models/modular/meshes/simple/gripper_outer_assembly_simplified.stl' -> './database/modular/meshes/simple/gripper_outer_assembly_simplified.stl'\n",
      "'/home/tree/xbot2_ws/src/modular/src/modular/modular_data/../web/static/models/modular/meshes/space_cube.stl' -> './database/modular/meshes/space_cube.stl'\n",
      "'/home/tree/xbot2_ws/src/modular/src/modular/modular_data/../web/static/models/modular/meshes/tool_exchanger.stl' -> './database/modular/meshes/tool_exchanger.stl'\n",
      "'/home/tree/xbot2_ws/src/modular/src/modular/modular_data/../web/static/models/modular/meshes/yaw_base.stl' -> './database/modular/meshes/yaw_base.stl'\n",
      "'/home/tree/xbot2_ws/src/modular/src/modular/modular_data/../web/static/models/modular/meshes/yaw_link.stl' -> './database/modular/meshes/yaw_link.stl'\n",
      "'/home/tree/xbot2_ws/src/modular/src/modular/modular_data/../web/static/models/modular/meshes/fingerup_7_raised.stl' -> './database/modular/meshes/fingerup_7_raised.stl'\n",
      "'/home/tree/xbot2_ws/src/modular/src/modular/modular_data/../web/static/models/modular/meshes/gripper_outer_assembly.stl' -> './database/modular/meshes/gripper_outer_assembly.stl'\n",
      "'/home/tree/xbot2_ws/src/modular/src/modular/modular_data/../web/static/models/modular/meshes/gripper_outer_assembly_simplified.stl' -> './database/modular/meshes/gripper_outer_assembly_simplified.stl'\n",
      "'/home/tree/xbot2_ws/src/modular/src/modular/modular_data/../web/static/models/modular/meshes/mesh_pitch-base.stl' -> './database/modular/meshes/mesh_pitch-base.stl'\n",
      "'/home/tree/xbot2_ws/src/modular/src/modular/modular_data/../web/static/models/modular/meshes/mesh_pitch-link.stl' -> './database/modular/meshes/mesh_pitch-link.stl'\n",
      "'/home/tree/xbot2_ws/src/modular/src/modular/modular_data/../web/static/models/modular/meshes/mesh_yaw.stl' -> './database/modular/meshes/mesh_yaw.stl'\n",
      "'/home/tree/xbot2_ws/src/modular/src/modular/modular_data/../web/static/models/modular/meshes/mesh_yaw_base.stl' -> './database/modular/meshes/mesh_yaw_base.stl'\n",
      "'/home/tree/xbot2_ws/src/modular/src/modular/modular_data/../web/static/models/modular/meshes/passive_link_l_135.stl' -> './database/modular/meshes/passive_link_l_135.stl'\n",
      "'/home/tree/xbot2_ws/src/modular/src/modular/modular_data/../web/static/models/modular/meshes/passive_link_l_45.stl' -> './database/modular/meshes/passive_link_l_45.stl'\n",
      "'/home/tree/xbot2_ws/src/modular/src/modular/modular_data/../web/static/models/modular/meshes/passive_link_l_90.stl' -> './database/modular/meshes/passive_link_l_90.stl'\n",
      "'/home/tree/xbot2_ws/src/modular/src/modular/modular_data/../web/static/models/modular/meshes/passive_link_straight_140.stl' -> './database/modular/meshes/passive_link_straight_140.stl'\n",
      "'/home/tree/xbot2_ws/src/modular/src/modular/modular_data/../web/static/models/modular/meshes/passive_link_straight_350.stl' -> './database/modular/meshes/passive_link_straight_350.stl'\n",
      "'/home/tree/xbot2_ws/src/modular/src/modular/modular_data/../web/static/models/modular/meshes/passive_link_straight_70.stl' -> './database/modular/meshes/passive_link_straight_70.stl'\n",
      "\u001b[0;32m[5/9] Deployed meshes\u001b[0m\n",
      "'/tmp/ModularBot/joint_map/ModularBot_joint_map.yaml' -> './joint_map/ModularBot_joint_map.yaml'\n",
      "\u001b[0;32m[6/9] Deployed joint map\u001b[0m\n",
      "'/tmp/ModularBot/srdf/ModularBot.srdf' -> './srdf/ModularBot.srdf'\n",
      "\u001b[0;32m[7/9] Deployed SRDF\u001b[0m\n",
      "'/tmp/ModularBot/urdf/ModularBot.urdf' -> './urdf/ModularBot.urdf'\n",
      "\u001b[0;32m[8/9] Deployed URDF\u001b[0m\n",
      "'/home/tree/xbot2_ws/src/modular/src/modular/modular_data/database/ModularBot_fixed_base/ModularBot_world.sdf' -> './database/ModularBot6_fixed_base/ModularBot6_world.sdf'\n",
      "'/home/tree/xbot2_ws/src/modular/src/modular/modular_data/database/ModularBot_fixed_base/manifest.xml' -> './database/ModularBot6_fixed_base/manifest.xml'\n",
      "'/home/tree/xbot2_ws/src/modular/src/modular/modular_data/database/ModularBot_fixed_base/model.config' -> './database/ModularBot6_fixed_base/model.config'\n",
      "\u001b[0;32m[9/9] Deployed gazebo model\u001b[0m\n",
      "\n",
      "\u001b[0;32m[ ✔ ] Package \u001b[1;33mModularBot6\u001b[0;32m succesfully deployed into \u001b[1;33m/home/tree/xbot_ws/src\u001b[0m\n",
      "\n",
      "\n"
     ]
    },
    {
     "data": {
      "text/plain": [
       "'ModularBot6'"
      ]
     },
     "execution_count": 13,
     "metadata": {},
     "output_type": "execute_result"
    }
   ],
   "source": [
    "urdf_writer.deploy_robot(\"ModularBot6\")"
   ]
  },
  {
   "cell_type": "code",
   "execution_count": 5,
   "metadata": {},
   "outputs": [],
   "source": [
    "import sys\n",
    "import copy\n",
    "import rospy\n",
    "import roslaunch\n",
    "import moveit_commander\n",
    "import moveit_msgs.msg\n",
    "import geometry_msgs.msg\n",
    "\n",
    "\n",
    "rospy.init_node('moveit_client', anonymous=True)"
   ]
  },
  {
   "cell_type": "code",
   "execution_count": null,
   "metadata": {},
   "outputs": [],
   "source": [
    "\n",
    "    \n",
    "uuid = roslaunch.rlutil.get_or_generate_uuid(None, False)\n",
    "roslaunch.configure_logging(uuid)\n",
    "# find launch filename\n",
    "update_collisions_launch = \"/home/tree/moveit_ws/src/pino_moveit/launch/update_collision.launch\"\n",
    "launch = roslaunch.parent.ROSLaunchParent(uuid, [update_collisions_launch])\n",
    "launch.start()\n",
    "rospy.loginfo(\"started\")\n",
    "launch.spin()"
   ]
  },
  {
   "cell_type": "code",
   "execution_count": null,
   "metadata": {},
   "outputs": [],
   "source": [
    "uuid = roslaunch.rlutil.get_or_generate_uuid(None, False)\n",
    "roslaunch.configure_logging(uuid)\n",
    "# find launch filename\n",
    "update_collisions_launch = \"/home/tree/moveit_ws/src/pino_moveit/launch/demo.launch\"\n",
    "launch = roslaunch.parent.ROSLaunchParent(uuid, [update_collisions_launch])\n",
    "launch.start()\n",
    "rospy.loginfo(\"started\")\n",
    "# launch.spin()\n",
    "rospy.sleep(10)"
   ]
  },
  {
   "cell_type": "code",
   "execution_count": 6,
   "metadata": {},
   "outputs": [
    {
     "name": "stdout",
     "output_type": "stream",
     "text": [
      "============ Starting tutorial setup\n"
     ]
    },
    {
     "ename": "RuntimeError",
     "evalue": "Unable to connect to move_group action server 'move_group' within allotted time (5s)",
     "output_type": "error",
     "traceback": [
      "\u001b[0;31m\u001b[0m",
      "\u001b[0;31mRuntimeError\u001b[0mTraceback (most recent call last)",
      "\u001b[0;32m<ipython-input-6-07245e63deb6>\u001b[0m in \u001b[0;36m<module>\u001b[0;34m()\u001b[0m\n\u001b[1;32m      4\u001b[0m \u001b[0mrobot\u001b[0m \u001b[0;34m=\u001b[0m \u001b[0mmoveit_commander\u001b[0m\u001b[0;34m.\u001b[0m\u001b[0mRobotCommander\u001b[0m\u001b[0;34m(\u001b[0m\u001b[0;34m)\u001b[0m\u001b[0;34m\u001b[0m\u001b[0m\n\u001b[1;32m      5\u001b[0m \u001b[0mscene\u001b[0m \u001b[0;34m=\u001b[0m \u001b[0mmoveit_commander\u001b[0m\u001b[0;34m.\u001b[0m\u001b[0mPlanningSceneInterface\u001b[0m\u001b[0;34m(\u001b[0m\u001b[0;34m)\u001b[0m\u001b[0;34m\u001b[0m\u001b[0m\n\u001b[0;32m----> 6\u001b[0;31m \u001b[0mgroup\u001b[0m \u001b[0;34m=\u001b[0m \u001b[0mmoveit_commander\u001b[0m\u001b[0;34m.\u001b[0m\u001b[0mMoveGroupCommander\u001b[0m\u001b[0;34m(\u001b[0m\u001b[0;34m\"arm_A\"\u001b[0m\u001b[0;34m)\u001b[0m\u001b[0;34m\u001b[0m\u001b[0m\n\u001b[0m\u001b[1;32m      7\u001b[0m \u001b[0;34m\u001b[0m\u001b[0m\n\u001b[1;32m      8\u001b[0m \u001b[0mrospy\u001b[0m\u001b[0;34m.\u001b[0m\u001b[0msleep\u001b[0m\u001b[0;34m(\u001b[0m\u001b[0;36m2\u001b[0m\u001b[0;34m)\u001b[0m\u001b[0;34m\u001b[0m\u001b[0m\n",
      "\u001b[0;32m/opt/ros/melodic/lib/python2.7/dist-packages/moveit_commander/move_group.pyc\u001b[0m in \u001b[0;36m__init__\u001b[0;34m(self, name, robot_description, ns, wait_for_servers)\u001b[0m\n\u001b[1;32m     50\u001b[0m     \u001b[0;32mdef\u001b[0m \u001b[0m__init__\u001b[0m\u001b[0;34m(\u001b[0m\u001b[0mself\u001b[0m\u001b[0;34m,\u001b[0m \u001b[0mname\u001b[0m\u001b[0;34m,\u001b[0m \u001b[0mrobot_description\u001b[0m\u001b[0;34m=\u001b[0m\u001b[0;34m\"robot_description\"\u001b[0m\u001b[0;34m,\u001b[0m \u001b[0mns\u001b[0m\u001b[0;34m=\u001b[0m\u001b[0;34m\"\"\u001b[0m\u001b[0;34m,\u001b[0m \u001b[0mwait_for_servers\u001b[0m\u001b[0;34m=\u001b[0m\u001b[0;36m5.0\u001b[0m\u001b[0;34m)\u001b[0m\u001b[0;34m:\u001b[0m\u001b[0;34m\u001b[0m\u001b[0m\n\u001b[1;32m     51\u001b[0m         \u001b[0;34m\"\"\" Specify the group name for which to construct this commander instance. Throws an exception if there is an initialization error. \"\"\"\u001b[0m\u001b[0;34m\u001b[0m\u001b[0m\n\u001b[0;32m---> 52\u001b[0;31m         \u001b[0mself\u001b[0m\u001b[0;34m.\u001b[0m\u001b[0m_g\u001b[0m \u001b[0;34m=\u001b[0m \u001b[0m_moveit_move_group_interface\u001b[0m\u001b[0;34m.\u001b[0m\u001b[0mMoveGroupInterface\u001b[0m\u001b[0;34m(\u001b[0m\u001b[0mname\u001b[0m\u001b[0;34m,\u001b[0m \u001b[0mrobot_description\u001b[0m\u001b[0;34m,\u001b[0m \u001b[0mns\u001b[0m\u001b[0;34m,\u001b[0m \u001b[0mwait_for_servers\u001b[0m\u001b[0;34m)\u001b[0m\u001b[0;34m\u001b[0m\u001b[0m\n\u001b[0m\u001b[1;32m     53\u001b[0m \u001b[0;34m\u001b[0m\u001b[0m\n\u001b[1;32m     54\u001b[0m     \u001b[0;32mdef\u001b[0m \u001b[0mget_name\u001b[0m\u001b[0;34m(\u001b[0m\u001b[0mself\u001b[0m\u001b[0;34m)\u001b[0m\u001b[0;34m:\u001b[0m\u001b[0;34m\u001b[0m\u001b[0m\n",
      "\u001b[0;31mRuntimeError\u001b[0m: Unable to connect to move_group action server 'move_group' within allotted time (5s)"
     ]
    }
   ],
   "source": [
    "print \"============ Starting tutorial setup\"\n",
    "moveit_commander.roscpp_initialize(sys.argv)\n",
    "\n",
    "robot = moveit_commander.RobotCommander()\n",
    "scene = moveit_commander.PlanningSceneInterface()\n",
    "group = moveit_commander.MoveGroupCommander(\"arm_A\")\n",
    "\n",
    "rospy.sleep(2)\n",
    "\n",
    "# plane_pose = geometry_msgs.msg.PoseStamped()\n",
    "# plane_pose.header.frame_id = robot.get_planning_frame()\n",
    "# plane_pose.pose.orientation.x = 1.0\n",
    "# plane_pose.pose.orientation.w = 1.0\n",
    "# plane_pose.pose.position.y = -0.01\n",
    "# scene.add_plane('vertical_plane', plane_pose)       \n",
    "\n",
    "print \"============ Reference frame: %s\" % group.get_planning_frame()\n",
    "print \"============ Reference frame: %s\" % group.get_end_effector_link()\n",
    "print \"============ Robot Groups:\"\n",
    "print robot.get_group_names()\n",
    "print \"============ Group current Pose:\"\n",
    "print group.get_current_pose()"
   ]
  },
  {
   "cell_type": "code",
   "execution_count": null,
   "metadata": {},
   "outputs": [],
   "source": [
    "constraint = moveit_msgs.msg.Constraints()\n",
    "orientation_constraint = moveit_msgs.msg.OrientationConstraint()\n",
    "orientation_constraint.header.frame_id = group.get_planning_frame()\n",
    "orientation_constraint.link_name = group.get_end_effector_link()\n",
    "orientation_constraint.orientation = copy.deepcopy(group.get_current_pose.pose.orientation)\n",
    "orientation_constraint.weight =1.0\n",
    "constraint.orientation_constraints.append(orientation_constraint)\n",
    "group.set_path_constraints(constraint)"
   ]
  },
  {
   "cell_type": "code",
   "execution_count": null,
   "metadata": {},
   "outputs": [],
   "source": [
    "# waypoints = []\n",
    "# start with the current pose\n",
    "# waypoints.append(group_A.get_current_pose().pose)\n",
    "\n",
    "# wpose = group_A.get_current_pose().pose\n",
    "# wpose.position.x= 0.753716170788\n",
    "# wpose.position.y= 0.479139626026\n",
    "# wpose.position.z= 0.534746289253\n",
    "# wpose.orientation.x= -0.0496546439826\n",
    "# wpose.orientation.y= 0.710804343224\n",
    "# wpose.orientation.z= 0.699813246727\n",
    "# wpose.orientation.w= 0.050527382642\n",
    "# waypoints.append(copy.deepcopy(wpose))\n",
    "\n",
    "# (plan3, fraction) = group_A.compute_cartesian_path(\n",
    "#                             waypoints,   # waypoints to follow\n",
    "#                             0.01,        # eef_step\n",
    "#                             0.0)         # jump_threshold\n",
    "# print \"============ Waiting while RVIZ displays plan3...\"\n",
    "# if fraction >=0.9:\n",
    "#     print(\"SUCCESS!!!!!!!!!!!!!!!!!!!!!!!!!!!!!!\")\n",
    "\n",
    "# launch.spin()"
   ]
  }
 ],
 "metadata": {
  "interpreter": {
   "hash": "767d51c1340bd893661ea55ea3124f6de3c7a262a8b4abca0554b478b1e2ff90"
  },
  "kernelspec": {
   "display_name": "Python 2.7.17 64-bit",
   "name": "python3"
  },
  "language_info": {
   "codemirror_mode": {
    "name": "ipython",
    "version": 2
   },
   "file_extension": ".py",
   "mimetype": "text/x-python",
   "name": "python",
   "nbconvert_exporter": "python",
   "pygments_lexer": "ipython2",
   "version": "2.7.17"
  },
  "orig_nbformat": 2
 },
 "nbformat": 4,
 "nbformat_minor": 2
}

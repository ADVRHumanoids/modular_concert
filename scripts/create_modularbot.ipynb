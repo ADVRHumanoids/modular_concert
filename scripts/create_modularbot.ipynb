{
 "cells": [
  {
   "cell_type": "code",
   "execution_count": null,
   "metadata": {},
   "outputs": [],
   "source": [
    "import os\n",
    "import sys\n",
    "from modular.URDF_writer import UrdfWriter"
   ]
  },
  {
   "cell_type": "code",
   "execution_count": null,
   "metadata": {},
   "outputs": [],
   "source": [
    "#create UrdfWriter object adn joint map to store homing values\n",
    "urdf_writer = UrdfWriter(speedup=True)\n",
    "homing_joint_map = {}"
   ]
  },
  {
   "cell_type": "code",
   "execution_count": null,
   "metadata": {},
   "outputs": [],
   "source": [
    "# urdf_writer.add_table()\n",
    "# urdf_writer.add_socket(0.150, 0.225, 0.0, 0.0)\n",
    "urdf_writer.add_socket(0.0, 0.0, 0.0, 0.0)\n",
    "\n",
    "\n",
    "#data = urdf_writer.add_slave_cube(0)\n",
    "# J1\n",
    "data = urdf_writer.add_module('module_joint_yaw_ORANGE_B.yaml', 0, False)\n",
    "homing_joint_map[str(data['lastModule_name'])] = {'angle': 0.0}\n",
    "\n",
    "# J2\n",
    "data = urdf_writer.add_module('module_joint_double_elbow_ORANGE_B.yaml', 0, False)\n",
    "homing_joint_map[str(data['lastModule_name'])] = {'angle': 0.5}\n",
    "\n",
    "# J3\n",
    "data = urdf_writer.add_module('module_joint_yaw_ORANGE_B.yaml', 0, False)\n",
    "homing_joint_map[str(data['lastModule_name'])] = {'angle': 0.0}\n",
    "\n",
    "# J4\n",
    "data = urdf_writer.add_module('module_joint_double_elbow_ORANGE_B.yaml', 0, False)\n",
    "homing_joint_map[data['lastModule_name']] = {'angle': 1.0}\n",
    "\n",
    "# J5\n",
    "data = urdf_writer.add_module('module_joint_yaw_ORANGE_B.yaml', 0, False)\n",
    "homing_joint_map[str(data['lastModule_name'])] = {'angle': 0.0}\n",
    "\n",
    "# J6\n",
    "data = urdf_writer.add_module('module_joint_double_elbow_ORANGE_B.yaml', 0, False)\n",
    "homing_joint_map[str(data['lastModule_name'])] = {'angle': 1.5}\n",
    "\n",
    "# data = urdf_writer.add_module('module_link_elbow_90_B.yaml', 0, False)\n",
    "\n",
    "# gripper\n",
    "# data = urdf_writer.add_module('module_gripper_B.yaml', 0, False)\n",
    "urdf_writer.add_simple_ee(0.0, 0.0, 0.189, 0.0)\n",
    "\n",
    "\n",
    "# urdf_writer.access_module('table')\n",
    "# urdf_writer.add_socket(0.5, 0.5)\n",
    "\n",
    "# data = urdf_writer.add_module('module_joint_double_elbow_ORANGE_B.yaml', 0, False)\n",
    "# homing_joint_map[str(data['lastModule_name'])] = {'angle': 1.5}\n",
    "\n",
    "# data = urdf_writer.add_module('module_gripper_B.yaml', 0, False)"
   ]
  },
  {
   "cell_type": "code",
   "execution_count": null,
   "metadata": {
    "tags": []
   },
   "outputs": [],
   "source": [
    "# get srdf and joint_map\n",
    "# urdf_writer.process_urdf()\n",
    "urdf_writer.write_urdf()\n",
    "urdf_writer.write_lowlevel_config()\n",
    "urdf_writer.write_problem_description_multi()\n",
    "urdf_writer.write_srdf(homing_joint_map)\n",
    "urdf_writer.write_joint_map()"
   ]
  },
  {
   "cell_type": "code",
   "execution_count": null,
   "metadata": {},
   "outputs": [],
   "source": [
    "urdf_writer.deploy_robot(\"ModularBot6\")"
   ]
  }
 ],
 "metadata": {
  "interpreter": {
   "hash": "767d51c1340bd893661ea55ea3124f6de3c7a262a8b4abca0554b478b1e2ff90"
  },
  "kernelspec": {
   "display_name": "Python 2.7.17 64-bit",
   "name": "python3"
  },
  "language_info": {
   "codemirror_mode": {
    "name": "ipython",
    "version": 2
   },
   "file_extension": ".py",
   "mimetype": "text/x-python",
   "name": "python",
   "nbconvert_exporter": "python",
   "pygments_lexer": "ipython2",
   "version": "2.7.17"
  },
  "orig_nbformat": 2
 },
 "nbformat": 4,
 "nbformat_minor": 2
}

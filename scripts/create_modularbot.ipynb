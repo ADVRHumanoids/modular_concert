{
 "metadata": {
  "language_info": {
   "codemirror_mode": {
    "name": "ipython",
    "version": 3
   },
   "file_extension": ".py",
   "mimetype": "text/x-python",
   "name": "python",
   "nbconvert_exporter": "python",
   "pygments_lexer": "ipython3",
   "version": "2.7.17-final"
  },
  "orig_nbformat": 2,
  "kernelspec": {
   "name": "python271764bitb7cc117145434f1894eb76992712748d",
   "display_name": "Python 2.7.17 64-bit",
   "language": "python"
  }
 },
 "nbformat": 4,
 "nbformat_minor": 2,
 "cells": [
  {
   "cell_type": "code",
   "execution_count": 1,
   "metadata": {},
   "outputs": [],
   "source": [
    "output_dir='/tmp/modular'\n",
    "robot_name='modular'"
   ]
  },
  {
   "cell_type": "code",
   "execution_count": 2,
   "metadata": {},
   "outputs": [],
   "source": [
    "import os\n",
    "import sys\n",
    "from modular.URDF_writer import UrdfWriter"
   ]
  },
  {
   "cell_type": "code",
   "execution_count": 3,
   "metadata": {},
   "outputs": [
    {
     "output_type": "stream",
     "name": "stdout",
     "text": [
      "/home/mtartari/modular_ws/src/modular/src/modular/config_file.yaml\n"
     ]
    }
   ],
   "source": [
    "#create UrdfWriter object adn joint map to store homing values\n",
    "urdf_writer = UrdfWriter(speedup=True)\n",
    "homing_joint_map = {}"
   ]
  },
  {
   "cell_type": "code",
   "execution_count": 4,
   "metadata": {},
   "outputs": [
    {
     "output_type": "stream",
     "name": "stdout",
     "text": [
      "('module_type', 'joint')\n",
      "big\n",
      "new_module.tag: _A\n",
      "parent module:\n",
      "<modular.ModuleNode.ModuleNode object at 0x7ff30393aa90>\n",
      "base_link\n",
      "selected_port : 2\n",
      "active_ports:  0011\n",
      "occupied_ports:  0001\n",
      "[[1. 0. 0. 0.]\n",
      " [0. 1. 0. 0.]\n",
      " [0. 0. 1. 0.]\n",
      " [0. 0. 0. 1.]]\n",
      "[[1. 0. 0. 0.]\n",
      " [0. 1. 0. 0.]\n",
      " [0. 0. 1. 0.]\n",
      " [0. 0. 0. 1.]]\n",
      "[[1.     0.     0.     0.    ]\n",
      " [0.     1.     0.     0.    ]\n",
      " [0.     0.     1.     0.0845]\n",
      " [0.     0.     0.     1.    ]]\n",
      "[[1. 0. 0. 0.]\n",
      " [0. 1. 0. 0.]\n",
      " [0. 0. 1. 0.]\n",
      " [0. 0. 0. 1.]]\n",
      "tag_index:  1 list of chains:  0\n",
      "base_link\n",
      "└── J1_A\n",
      "('module_type', 'joint')\n",
      "big\n",
      "new_module.tag: _A\n",
      "parent module:\n",
      "<modular.ModuleNode.ModuleNode object at 0x7ff303905290>\n",
      "joint\n",
      "selected_port : 2\n",
      "active_ports:  0011\n",
      "occupied_ports:  0001\n",
      "[[1.    0.    0.    0.   ]\n",
      " [0.    1.    0.    0.   ]\n",
      " [0.    0.    1.    0.063]\n",
      " [0.    0.    0.    1.   ]]\n",
      "[[1. 0. 0. 0.]\n",
      " [0. 1. 0. 0.]\n",
      " [0. 0. 1. 0.]\n",
      " [0. 0. 0. 1.]]\n",
      "[[ 1.00000000e+00  0.00000000e+00  0.00000000e+00  0.00000000e+00]\n",
      " [ 0.00000000e+00  7.96326711e-04  9.99999683e-01  1.13909964e-01]\n",
      " [ 0.00000000e+00 -9.99999683e-01  7.96326711e-04  8.00907096e-02]\n",
      " [ 0.00000000e+00  0.00000000e+00  0.00000000e+00  1.00000000e+00]]\n",
      "tag_index:  1 list of chains:  1\n",
      "base_link\n",
      "└── J1_A\n",
      "    └── J2_A\n",
      "('module_type', 'joint')\n",
      "big\n",
      "new_module.tag: _A\n",
      "parent module:\n",
      "<modular.ModuleNode.ModuleNode object at 0x7ff3202a2a50>\n",
      "joint\n",
      "selected_port : 2\n",
      "active_ports:  0011\n",
      "occupied_ports:  0001\n",
      "[[ 1.00000000e+00  0.00000000e+00  0.00000000e+00  0.00000000e+00]\n",
      " [ 0.00000000e+00  7.96326711e-04 -9.99999683e-01 -7.99999746e-02]\n",
      " [ 0.00000000e+00  9.99999683e-01  7.96326711e-04  3.61537061e-02]\n",
      " [ 0.00000000e+00  0.00000000e+00  0.00000000e+00  1.00000000e+00]]\n",
      "[[1. 0. 0. 0.]\n",
      " [0. 1. 0. 0.]\n",
      " [0. 0. 1. 0.]\n",
      " [0. 0. 0. 1.]]\n",
      "[[1.     0.     0.     0.    ]\n",
      " [0.     1.     0.     0.    ]\n",
      " [0.     0.     1.     0.0845]\n",
      " [0.     0.     0.     1.    ]]\n",
      "tag_index:  1 list of chains:  1\n",
      "base_link\n",
      "└── J1_A\n",
      "    └── J2_A\n",
      "        └── J3_A\n",
      "('module_type', 'joint')\n",
      "big\n",
      "new_module.tag: _A\n",
      "parent module:\n",
      "<modular.ModuleNode.ModuleNode object at 0x7ff303997e50>\n",
      "joint\n",
      "selected_port : 2\n",
      "active_ports:  0011\n",
      "occupied_ports:  0001\n",
      "[[1.    0.    0.    0.   ]\n",
      " [0.    1.    0.    0.   ]\n",
      " [0.    0.    1.    0.063]\n",
      " [0.    0.    0.    1.   ]]\n",
      "[[1. 0. 0. 0.]\n",
      " [0. 1. 0. 0.]\n",
      " [0. 0. 1. 0.]\n",
      " [0. 0. 0. 1.]]\n",
      "[[ 1.00000000e+00  0.00000000e+00  0.00000000e+00  0.00000000e+00]\n",
      " [ 0.00000000e+00  7.96326711e-04  9.99999683e-01  1.13909964e-01]\n",
      " [ 0.00000000e+00 -9.99999683e-01  7.96326711e-04  8.00907096e-02]\n",
      " [ 0.00000000e+00  0.00000000e+00  0.00000000e+00  1.00000000e+00]]\n",
      "tag_index:  1 list of chains:  1\n",
      "base_link\n",
      "└── J1_A\n",
      "    └── J2_A\n",
      "        └── J3_A\n",
      "            └── J4_A\n",
      "('module_type', 'joint')\n",
      "big\n",
      "new_module.tag: _A\n",
      "parent module:\n",
      "<modular.ModuleNode.ModuleNode object at 0x7ff3038d56d0>\n",
      "joint\n",
      "selected_port : 2\n",
      "active_ports:  0011\n",
      "occupied_ports:  0001\n",
      "[[ 1.00000000e+00  0.00000000e+00  0.00000000e+00  0.00000000e+00]\n",
      " [ 0.00000000e+00  7.96326711e-04 -9.99999683e-01 -7.99999746e-02]\n",
      " [ 0.00000000e+00  9.99999683e-01  7.96326711e-04  3.61537061e-02]\n",
      " [ 0.00000000e+00  0.00000000e+00  0.00000000e+00  1.00000000e+00]]\n",
      "[[1. 0. 0. 0.]\n",
      " [0. 1. 0. 0.]\n",
      " [0. 0. 1. 0.]\n",
      " [0. 0. 0. 1.]]\n",
      "[[1.     0.     0.     0.    ]\n",
      " [0.     1.     0.     0.    ]\n",
      " [0.     0.     1.     0.0845]\n",
      " [0.     0.     0.     1.    ]]\n",
      "tag_index:  1 list of chains:  1\n",
      "base_link\n",
      "└── J1_A\n",
      "    └── J2_A\n",
      "        └── J3_A\n",
      "            └── J4_A\n",
      "                └── J5_A\n",
      "('module_type', 'joint')\n",
      "big\n",
      "new_module.tag: _A\n",
      "parent module:\n",
      "<modular.ModuleNode.ModuleNode object at 0x7ff3038c1ad0>\n",
      "joint\n",
      "selected_port : 2\n",
      "active_ports:  0011\n",
      "occupied_ports:  0001\n",
      "[[1.    0.    0.    0.   ]\n",
      " [0.    1.    0.    0.   ]\n",
      " [0.    0.    1.    0.063]\n",
      " [0.    0.    0.    1.   ]]\n",
      "[[1. 0. 0. 0.]\n",
      " [0. 1. 0. 0.]\n",
      " [0. 0. 1. 0.]\n",
      " [0. 0. 0. 1.]]\n",
      "[[ 1.00000000e+00  0.00000000e+00  0.00000000e+00  0.00000000e+00]\n",
      " [ 0.00000000e+00  7.96326711e-04  9.99999683e-01  1.13909964e-01]\n",
      " [ 0.00000000e+00 -9.99999683e-01  7.96326711e-04  8.00907096e-02]\n",
      " [ 0.00000000e+00  0.00000000e+00  0.00000000e+00  1.00000000e+00]]\n",
      "tag_index:  1 list of chains:  1\n",
      "base_link\n",
      "└── J1_A\n",
      "    └── J2_A\n",
      "        └── J3_A\n",
      "            └── J4_A\n",
      "                └── J5_A\n",
      "                    └── J6_A\n",
      "('module_type', 'tool_exchanger')\n",
      "big\n",
      "new_module.tag: _A\n",
      "parent module:\n",
      "<modular.ModuleNode.ModuleNode object at 0x7ff3202f3610>\n",
      "joint\n",
      "selected_port : 2\n",
      "active_ports:  0011\n",
      "occupied_ports:  0001\n",
      "tag_index:  1 list of chains:  1\n",
      "[[ 1.00000000e+00  0.00000000e+00  0.00000000e+00  0.00000000e+00]\n",
      " [ 0.00000000e+00  7.96326711e-04 -9.99999683e-01 -7.99999746e-02]\n",
      " [ 0.00000000e+00  9.99999683e-01  7.96326711e-04  3.61537061e-02]\n",
      " [ 0.00000000e+00  0.00000000e+00  0.00000000e+00  1.00000000e+00]]\n",
      "base_link\n",
      "└── J1_A\n",
      "    └── J2_A\n",
      "        └── J3_A\n",
      "            └── J4_A\n",
      "                └── J5_A\n",
      "                    └── J6_A\n",
      "                        └── tool_exchanger_A\n"
     ]
    }
   ],
   "source": [
    "#data = urdf_writer.add_slave_cube(0)\n",
    "# J1\n",
    "data = urdf_writer.add_module('module_joint_2ndGen_yaw_ORANGE_B.yaml', 0, False)\n",
    "homing_joint_map[str(data['lastModule_name'])] = {'angle': 0.0}\n",
    "\n",
    "# J2\n",
    "data = urdf_writer.add_module('module_joint_2ndGen_double_elbow_ORANGE_B.yaml', 0, False)\n",
    "homing_joint_map[str(data['lastModule_name'])] = {'angle': 1.5}\n",
    "\n",
    "# J3\n",
    "data = urdf_writer.add_module('module_joint_2ndGen_yaw_ORANGE_B.yaml', 0, False)\n",
    "homing_joint_map[str(data['lastModule_name'])] = {'angle': 0.0}\n",
    "\n",
    "# J4\n",
    "data = urdf_writer.add_module('module_joint_2ndGen_double_elbow_ORANGE_B.yaml', 0, False)\n",
    "homing_joint_map[data['lastModule_name']] = {'angle': 1.0}\n",
    "\n",
    "# J5\n",
    "data = urdf_writer.add_module('module_joint_2ndGen_yaw_ORANGE_B.yaml', 0, False)\n",
    "homing_joint_map[str(data['lastModule_name'])] = {'angle': 0.0}\n",
    "\n",
    "# J6\n",
    "data = urdf_writer.add_module('module_joint_2ndGen_double_elbow_ORANGE_B.yaml', 0, False)\n",
    "homing_joint_map[str(data['lastModule_name'])] = {'angle': 0.5}\n",
    "\n",
    "# endtool\n",
    "data = urdf_writer.add_module('module_tool_exchanger_heavy_B.yaml', 0, False)"
   ]
  },
  {
   "cell_type": "code",
   "execution_count": 5,
   "metadata": {},
   "outputs": [
    {
     "output_type": "stream",
     "name": "stdout",
     "text": [
      "[[<modular.ModuleNode.ModuleNode object at 0x7ff303905290>, <modular.ModuleNode.ModuleNode object at 0x7ff3202a2a50>, <modular.ModuleNode.ModuleNode object at 0x7ff303997e50>, <modular.ModuleNode.ModuleNode object at 0x7ff3038d56d0>, <modular.ModuleNode.ModuleNode object at 0x7ff3038c1ad0>, <modular.ModuleNode.ModuleNode object at 0x7ff3202f3610>, <modular.ModuleNode.ModuleNode object at 0x7ff3038ca990>]]\n0.0\n1.5\n0.0\n1.0\n0.0\n0.5\n"
     ]
    }
   ],
   "source": [
    "# get srdf and joint_map\n",
    "srdf_string = urdf_writer.write_srdf(homing_joint_map)\n",
    "joint_map = urdf_writer.write_joint_map()"
   ]
  },
  {
   "cell_type": "code",
   "execution_count": 6,
   "metadata": {},
   "outputs": [
    {
     "output_type": "stream",
     "name": "stdout",
     "text": [
      "/tmp/modular already exist\n"
     ]
    }
   ],
   "source": [
    "# create path if not already existing\n",
    "if not os.path.isdir(output_dir):\n",
    "    try:\n",
    "        os.makedirs(output_dir)\n",
    "    except OSError:\n",
    "        print (\"Creation of the directory %s failed\" % output_dir)\n",
    "    else:\n",
    "        print (\"Successfully created the directory %s\" % output_dir)\n",
    "else:\n",
    "    print(\"%s already exist\" % output_dir)"
   ]
  },
  {
   "cell_type": "code",
   "execution_count": 7,
   "metadata": {},
   "outputs": [
    {
     "output_type": "stream",
     "name": "stdout",
     "text": [
      "done\n"
     ]
    }
   ],
   "source": [
    "# Save to file\n",
    "urdf_string = urdf_writer.process_urdf()\n",
    "output_file = os.path.join(output_dir, robot_name)\n",
    "with open(output_file+\".urdf\", \"w\") as text_file:\n",
    "    text_file.write(urdf_string)\n",
    "with open(output_file+\".srdf\", \"w\") as text_file:\n",
    "    text_file.write(srdf_string)\n",
    "print(\"done\")"
   ]
  },
  {
   "cell_type": "code",
   "execution_count": null,
   "metadata": {},
   "outputs": [],
   "source": []
  }
 ]
}